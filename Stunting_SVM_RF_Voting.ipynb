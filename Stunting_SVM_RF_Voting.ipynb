{
  "nbformat": 4,
  "nbformat_minor": 0,
  "metadata": {
    "colab": {
      "provenance": [],
      "toc_visible": true
    },
    "kernelspec": {
      "name": "python3",
      "display_name": "Python 3"
    },
    "language_info": {
      "name": "python"
    }
  },
  "cells": [
    {
      "cell_type": "code",
      "execution_count": null,
      "metadata": {
        "id": "blRSIXK81ju6"
      },
      "outputs": [],
      "source": [
        "import pandas as pd\n",
        "from sklearn.preprocessing import MinMaxScaler, LabelEncoder\n",
        "from sklearn.model_selection import train_test_split"
      ]
    },
    {
      "cell_type": "code",
      "source": [
        "df = pd.read_csv('/content/data_balita.csv')\n",
        "df"
      ],
      "metadata": {
        "colab": {
          "base_uri": "https://localhost:8080/",
          "height": 423
        },
        "id": "GeGnK1De1o31",
        "outputId": "a8ff18a8-b176-426c-b8c8-5ce0c672b2ec"
      },
      "execution_count": null,
      "outputs": [
        {
          "output_type": "execute_result",
          "data": {
            "text/plain": [
              "        Umur (bulan) Jenis Kelamin  Tinggi Badan (cm)       Status Gizi\n",
              "0                  0     laki-laki          44.591973           stunted\n",
              "1                  0     laki-laki          56.705203            tinggi\n",
              "2                  0     laki-laki          46.863358            normal\n",
              "3                  0     laki-laki          47.508026            normal\n",
              "4                  0     laki-laki          42.743494  severely stunted\n",
              "...              ...           ...                ...               ...\n",
              "120994            60     perempuan         100.600000            normal\n",
              "120995            60     perempuan          98.300000           stunted\n",
              "120996            60     perempuan         121.300000            normal\n",
              "120997            60     perempuan         112.200000            normal\n",
              "120998            60     perempuan         109.800000            normal\n",
              "\n",
              "[120999 rows x 4 columns]"
            ],
            "text/html": [
              "\n",
              "  <div id=\"df-b9cad026-e200-407c-b491-79a42ecc82ff\" class=\"colab-df-container\">\n",
              "    <div>\n",
              "<style scoped>\n",
              "    .dataframe tbody tr th:only-of-type {\n",
              "        vertical-align: middle;\n",
              "    }\n",
              "\n",
              "    .dataframe tbody tr th {\n",
              "        vertical-align: top;\n",
              "    }\n",
              "\n",
              "    .dataframe thead th {\n",
              "        text-align: right;\n",
              "    }\n",
              "</style>\n",
              "<table border=\"1\" class=\"dataframe\">\n",
              "  <thead>\n",
              "    <tr style=\"text-align: right;\">\n",
              "      <th></th>\n",
              "      <th>Umur (bulan)</th>\n",
              "      <th>Jenis Kelamin</th>\n",
              "      <th>Tinggi Badan (cm)</th>\n",
              "      <th>Status Gizi</th>\n",
              "    </tr>\n",
              "  </thead>\n",
              "  <tbody>\n",
              "    <tr>\n",
              "      <th>0</th>\n",
              "      <td>0</td>\n",
              "      <td>laki-laki</td>\n",
              "      <td>44.591973</td>\n",
              "      <td>stunted</td>\n",
              "    </tr>\n",
              "    <tr>\n",
              "      <th>1</th>\n",
              "      <td>0</td>\n",
              "      <td>laki-laki</td>\n",
              "      <td>56.705203</td>\n",
              "      <td>tinggi</td>\n",
              "    </tr>\n",
              "    <tr>\n",
              "      <th>2</th>\n",
              "      <td>0</td>\n",
              "      <td>laki-laki</td>\n",
              "      <td>46.863358</td>\n",
              "      <td>normal</td>\n",
              "    </tr>\n",
              "    <tr>\n",
              "      <th>3</th>\n",
              "      <td>0</td>\n",
              "      <td>laki-laki</td>\n",
              "      <td>47.508026</td>\n",
              "      <td>normal</td>\n",
              "    </tr>\n",
              "    <tr>\n",
              "      <th>4</th>\n",
              "      <td>0</td>\n",
              "      <td>laki-laki</td>\n",
              "      <td>42.743494</td>\n",
              "      <td>severely stunted</td>\n",
              "    </tr>\n",
              "    <tr>\n",
              "      <th>...</th>\n",
              "      <td>...</td>\n",
              "      <td>...</td>\n",
              "      <td>...</td>\n",
              "      <td>...</td>\n",
              "    </tr>\n",
              "    <tr>\n",
              "      <th>120994</th>\n",
              "      <td>60</td>\n",
              "      <td>perempuan</td>\n",
              "      <td>100.600000</td>\n",
              "      <td>normal</td>\n",
              "    </tr>\n",
              "    <tr>\n",
              "      <th>120995</th>\n",
              "      <td>60</td>\n",
              "      <td>perempuan</td>\n",
              "      <td>98.300000</td>\n",
              "      <td>stunted</td>\n",
              "    </tr>\n",
              "    <tr>\n",
              "      <th>120996</th>\n",
              "      <td>60</td>\n",
              "      <td>perempuan</td>\n",
              "      <td>121.300000</td>\n",
              "      <td>normal</td>\n",
              "    </tr>\n",
              "    <tr>\n",
              "      <th>120997</th>\n",
              "      <td>60</td>\n",
              "      <td>perempuan</td>\n",
              "      <td>112.200000</td>\n",
              "      <td>normal</td>\n",
              "    </tr>\n",
              "    <tr>\n",
              "      <th>120998</th>\n",
              "      <td>60</td>\n",
              "      <td>perempuan</td>\n",
              "      <td>109.800000</td>\n",
              "      <td>normal</td>\n",
              "    </tr>\n",
              "  </tbody>\n",
              "</table>\n",
              "<p>120999 rows × 4 columns</p>\n",
              "</div>\n",
              "    <div class=\"colab-df-buttons\">\n",
              "\n",
              "  <div class=\"colab-df-container\">\n",
              "    <button class=\"colab-df-convert\" onclick=\"convertToInteractive('df-b9cad026-e200-407c-b491-79a42ecc82ff')\"\n",
              "            title=\"Convert this dataframe to an interactive table.\"\n",
              "            style=\"display:none;\">\n",
              "\n",
              "  <svg xmlns=\"http://www.w3.org/2000/svg\" height=\"24px\" viewBox=\"0 -960 960 960\">\n",
              "    <path d=\"M120-120v-720h720v720H120Zm60-500h600v-160H180v160Zm220 220h160v-160H400v160Zm0 220h160v-160H400v160ZM180-400h160v-160H180v160Zm440 0h160v-160H620v160ZM180-180h160v-160H180v160Zm440 0h160v-160H620v160Z\"/>\n",
              "  </svg>\n",
              "    </button>\n",
              "\n",
              "  <style>\n",
              "    .colab-df-container {\n",
              "      display:flex;\n",
              "      gap: 12px;\n",
              "    }\n",
              "\n",
              "    .colab-df-convert {\n",
              "      background-color: #E8F0FE;\n",
              "      border: none;\n",
              "      border-radius: 50%;\n",
              "      cursor: pointer;\n",
              "      display: none;\n",
              "      fill: #1967D2;\n",
              "      height: 32px;\n",
              "      padding: 0 0 0 0;\n",
              "      width: 32px;\n",
              "    }\n",
              "\n",
              "    .colab-df-convert:hover {\n",
              "      background-color: #E2EBFA;\n",
              "      box-shadow: 0px 1px 2px rgba(60, 64, 67, 0.3), 0px 1px 3px 1px rgba(60, 64, 67, 0.15);\n",
              "      fill: #174EA6;\n",
              "    }\n",
              "\n",
              "    .colab-df-buttons div {\n",
              "      margin-bottom: 4px;\n",
              "    }\n",
              "\n",
              "    [theme=dark] .colab-df-convert {\n",
              "      background-color: #3B4455;\n",
              "      fill: #D2E3FC;\n",
              "    }\n",
              "\n",
              "    [theme=dark] .colab-df-convert:hover {\n",
              "      background-color: #434B5C;\n",
              "      box-shadow: 0px 1px 3px 1px rgba(0, 0, 0, 0.15);\n",
              "      filter: drop-shadow(0px 1px 2px rgba(0, 0, 0, 0.3));\n",
              "      fill: #FFFFFF;\n",
              "    }\n",
              "  </style>\n",
              "\n",
              "    <script>\n",
              "      const buttonEl =\n",
              "        document.querySelector('#df-b9cad026-e200-407c-b491-79a42ecc82ff button.colab-df-convert');\n",
              "      buttonEl.style.display =\n",
              "        google.colab.kernel.accessAllowed ? 'block' : 'none';\n",
              "\n",
              "      async function convertToInteractive(key) {\n",
              "        const element = document.querySelector('#df-b9cad026-e200-407c-b491-79a42ecc82ff');\n",
              "        const dataTable =\n",
              "          await google.colab.kernel.invokeFunction('convertToInteractive',\n",
              "                                                    [key], {});\n",
              "        if (!dataTable) return;\n",
              "\n",
              "        const docLinkHtml = 'Like what you see? Visit the ' +\n",
              "          '<a target=\"_blank\" href=https://colab.research.google.com/notebooks/data_table.ipynb>data table notebook</a>'\n",
              "          + ' to learn more about interactive tables.';\n",
              "        element.innerHTML = '';\n",
              "        dataTable['output_type'] = 'display_data';\n",
              "        await google.colab.output.renderOutput(dataTable, element);\n",
              "        const docLink = document.createElement('div');\n",
              "        docLink.innerHTML = docLinkHtml;\n",
              "        element.appendChild(docLink);\n",
              "      }\n",
              "    </script>\n",
              "  </div>\n",
              "\n",
              "\n",
              "<div id=\"df-f06e77d6-ff5c-420b-899b-07925fc69c68\">\n",
              "  <button class=\"colab-df-quickchart\" onclick=\"quickchart('df-f06e77d6-ff5c-420b-899b-07925fc69c68')\"\n",
              "            title=\"Suggest charts\"\n",
              "            style=\"display:none;\">\n",
              "\n",
              "<svg xmlns=\"http://www.w3.org/2000/svg\" height=\"24px\"viewBox=\"0 0 24 24\"\n",
              "     width=\"24px\">\n",
              "    <g>\n",
              "        <path d=\"M19 3H5c-1.1 0-2 .9-2 2v14c0 1.1.9 2 2 2h14c1.1 0 2-.9 2-2V5c0-1.1-.9-2-2-2zM9 17H7v-7h2v7zm4 0h-2V7h2v10zm4 0h-2v-4h2v4z\"/>\n",
              "    </g>\n",
              "</svg>\n",
              "  </button>\n",
              "\n",
              "<style>\n",
              "  .colab-df-quickchart {\n",
              "      --bg-color: #E8F0FE;\n",
              "      --fill-color: #1967D2;\n",
              "      --hover-bg-color: #E2EBFA;\n",
              "      --hover-fill-color: #174EA6;\n",
              "      --disabled-fill-color: #AAA;\n",
              "      --disabled-bg-color: #DDD;\n",
              "  }\n",
              "\n",
              "  [theme=dark] .colab-df-quickchart {\n",
              "      --bg-color: #3B4455;\n",
              "      --fill-color: #D2E3FC;\n",
              "      --hover-bg-color: #434B5C;\n",
              "      --hover-fill-color: #FFFFFF;\n",
              "      --disabled-bg-color: #3B4455;\n",
              "      --disabled-fill-color: #666;\n",
              "  }\n",
              "\n",
              "  .colab-df-quickchart {\n",
              "    background-color: var(--bg-color);\n",
              "    border: none;\n",
              "    border-radius: 50%;\n",
              "    cursor: pointer;\n",
              "    display: none;\n",
              "    fill: var(--fill-color);\n",
              "    height: 32px;\n",
              "    padding: 0;\n",
              "    width: 32px;\n",
              "  }\n",
              "\n",
              "  .colab-df-quickchart:hover {\n",
              "    background-color: var(--hover-bg-color);\n",
              "    box-shadow: 0 1px 2px rgba(60, 64, 67, 0.3), 0 1px 3px 1px rgba(60, 64, 67, 0.15);\n",
              "    fill: var(--button-hover-fill-color);\n",
              "  }\n",
              "\n",
              "  .colab-df-quickchart-complete:disabled,\n",
              "  .colab-df-quickchart-complete:disabled:hover {\n",
              "    background-color: var(--disabled-bg-color);\n",
              "    fill: var(--disabled-fill-color);\n",
              "    box-shadow: none;\n",
              "  }\n",
              "\n",
              "  .colab-df-spinner {\n",
              "    border: 2px solid var(--fill-color);\n",
              "    border-color: transparent;\n",
              "    border-bottom-color: var(--fill-color);\n",
              "    animation:\n",
              "      spin 1s steps(1) infinite;\n",
              "  }\n",
              "\n",
              "  @keyframes spin {\n",
              "    0% {\n",
              "      border-color: transparent;\n",
              "      border-bottom-color: var(--fill-color);\n",
              "      border-left-color: var(--fill-color);\n",
              "    }\n",
              "    20% {\n",
              "      border-color: transparent;\n",
              "      border-left-color: var(--fill-color);\n",
              "      border-top-color: var(--fill-color);\n",
              "    }\n",
              "    30% {\n",
              "      border-color: transparent;\n",
              "      border-left-color: var(--fill-color);\n",
              "      border-top-color: var(--fill-color);\n",
              "      border-right-color: var(--fill-color);\n",
              "    }\n",
              "    40% {\n",
              "      border-color: transparent;\n",
              "      border-right-color: var(--fill-color);\n",
              "      border-top-color: var(--fill-color);\n",
              "    }\n",
              "    60% {\n",
              "      border-color: transparent;\n",
              "      border-right-color: var(--fill-color);\n",
              "    }\n",
              "    80% {\n",
              "      border-color: transparent;\n",
              "      border-right-color: var(--fill-color);\n",
              "      border-bottom-color: var(--fill-color);\n",
              "    }\n",
              "    90% {\n",
              "      border-color: transparent;\n",
              "      border-bottom-color: var(--fill-color);\n",
              "    }\n",
              "  }\n",
              "</style>\n",
              "\n",
              "  <script>\n",
              "    async function quickchart(key) {\n",
              "      const quickchartButtonEl =\n",
              "        document.querySelector('#' + key + ' button');\n",
              "      quickchartButtonEl.disabled = true;  // To prevent multiple clicks.\n",
              "      quickchartButtonEl.classList.add('colab-df-spinner');\n",
              "      try {\n",
              "        const charts = await google.colab.kernel.invokeFunction(\n",
              "            'suggestCharts', [key], {});\n",
              "      } catch (error) {\n",
              "        console.error('Error during call to suggestCharts:', error);\n",
              "      }\n",
              "      quickchartButtonEl.classList.remove('colab-df-spinner');\n",
              "      quickchartButtonEl.classList.add('colab-df-quickchart-complete');\n",
              "    }\n",
              "    (() => {\n",
              "      let quickchartButtonEl =\n",
              "        document.querySelector('#df-f06e77d6-ff5c-420b-899b-07925fc69c68 button');\n",
              "      quickchartButtonEl.style.display =\n",
              "        google.colab.kernel.accessAllowed ? 'block' : 'none';\n",
              "    })();\n",
              "  </script>\n",
              "</div>\n",
              "\n",
              "  <div id=\"id_bc0c9536-2df4-4259-8569-f036057b9712\">\n",
              "    <style>\n",
              "      .colab-df-generate {\n",
              "        background-color: #E8F0FE;\n",
              "        border: none;\n",
              "        border-radius: 50%;\n",
              "        cursor: pointer;\n",
              "        display: none;\n",
              "        fill: #1967D2;\n",
              "        height: 32px;\n",
              "        padding: 0 0 0 0;\n",
              "        width: 32px;\n",
              "      }\n",
              "\n",
              "      .colab-df-generate:hover {\n",
              "        background-color: #E2EBFA;\n",
              "        box-shadow: 0px 1px 2px rgba(60, 64, 67, 0.3), 0px 1px 3px 1px rgba(60, 64, 67, 0.15);\n",
              "        fill: #174EA6;\n",
              "      }\n",
              "\n",
              "      [theme=dark] .colab-df-generate {\n",
              "        background-color: #3B4455;\n",
              "        fill: #D2E3FC;\n",
              "      }\n",
              "\n",
              "      [theme=dark] .colab-df-generate:hover {\n",
              "        background-color: #434B5C;\n",
              "        box-shadow: 0px 1px 3px 1px rgba(0, 0, 0, 0.15);\n",
              "        filter: drop-shadow(0px 1px 2px rgba(0, 0, 0, 0.3));\n",
              "        fill: #FFFFFF;\n",
              "      }\n",
              "    </style>\n",
              "    <button class=\"colab-df-generate\" onclick=\"generateWithVariable('df')\"\n",
              "            title=\"Generate code using this dataframe.\"\n",
              "            style=\"display:none;\">\n",
              "\n",
              "  <svg xmlns=\"http://www.w3.org/2000/svg\" height=\"24px\"viewBox=\"0 0 24 24\"\n",
              "       width=\"24px\">\n",
              "    <path d=\"M7,19H8.4L18.45,9,17,7.55,7,17.6ZM5,21V16.75L18.45,3.32a2,2,0,0,1,2.83,0l1.4,1.43a1.91,1.91,0,0,1,.58,1.4,1.91,1.91,0,0,1-.58,1.4L9.25,21ZM18.45,9,17,7.55Zm-12,3A5.31,5.31,0,0,0,4.9,8.1,5.31,5.31,0,0,0,1,6.5,5.31,5.31,0,0,0,4.9,4.9,5.31,5.31,0,0,0,6.5,1,5.31,5.31,0,0,0,8.1,4.9,5.31,5.31,0,0,0,12,6.5,5.46,5.46,0,0,0,6.5,12Z\"/>\n",
              "  </svg>\n",
              "    </button>\n",
              "    <script>\n",
              "      (() => {\n",
              "      const buttonEl =\n",
              "        document.querySelector('#id_bc0c9536-2df4-4259-8569-f036057b9712 button.colab-df-generate');\n",
              "      buttonEl.style.display =\n",
              "        google.colab.kernel.accessAllowed ? 'block' : 'none';\n",
              "\n",
              "      buttonEl.onclick = () => {\n",
              "        google.colab.notebook.generateWithVariable('df');\n",
              "      }\n",
              "      })();\n",
              "    </script>\n",
              "  </div>\n",
              "\n",
              "    </div>\n",
              "  </div>\n"
            ],
            "application/vnd.google.colaboratory.intrinsic+json": {
              "type": "dataframe",
              "variable_name": "df"
            }
          },
          "metadata": {},
          "execution_count": 2
        }
      ]
    },
    {
      "cell_type": "code",
      "source": [
        "df.head()"
      ],
      "metadata": {
        "colab": {
          "base_uri": "https://localhost:8080/",
          "height": 206
        },
        "id": "m3mr19f3VPdT",
        "outputId": "44e5b44b-5718-4acb-9ad7-dfe132b5a132"
      },
      "execution_count": null,
      "outputs": [
        {
          "output_type": "execute_result",
          "data": {
            "text/plain": [
              "   Umur (bulan) Jenis Kelamin  Tinggi Badan (cm)       Status Gizi\n",
              "0             0     laki-laki          44.591973           stunted\n",
              "1             0     laki-laki          56.705203            tinggi\n",
              "2             0     laki-laki          46.863358            normal\n",
              "3             0     laki-laki          47.508026            normal\n",
              "4             0     laki-laki          42.743494  severely stunted"
            ],
            "text/html": [
              "\n",
              "  <div id=\"df-e668358f-72bc-49f5-960d-56fe2bf1817a\" class=\"colab-df-container\">\n",
              "    <div>\n",
              "<style scoped>\n",
              "    .dataframe tbody tr th:only-of-type {\n",
              "        vertical-align: middle;\n",
              "    }\n",
              "\n",
              "    .dataframe tbody tr th {\n",
              "        vertical-align: top;\n",
              "    }\n",
              "\n",
              "    .dataframe thead th {\n",
              "        text-align: right;\n",
              "    }\n",
              "</style>\n",
              "<table border=\"1\" class=\"dataframe\">\n",
              "  <thead>\n",
              "    <tr style=\"text-align: right;\">\n",
              "      <th></th>\n",
              "      <th>Umur (bulan)</th>\n",
              "      <th>Jenis Kelamin</th>\n",
              "      <th>Tinggi Badan (cm)</th>\n",
              "      <th>Status Gizi</th>\n",
              "    </tr>\n",
              "  </thead>\n",
              "  <tbody>\n",
              "    <tr>\n",
              "      <th>0</th>\n",
              "      <td>0</td>\n",
              "      <td>laki-laki</td>\n",
              "      <td>44.591973</td>\n",
              "      <td>stunted</td>\n",
              "    </tr>\n",
              "    <tr>\n",
              "      <th>1</th>\n",
              "      <td>0</td>\n",
              "      <td>laki-laki</td>\n",
              "      <td>56.705203</td>\n",
              "      <td>tinggi</td>\n",
              "    </tr>\n",
              "    <tr>\n",
              "      <th>2</th>\n",
              "      <td>0</td>\n",
              "      <td>laki-laki</td>\n",
              "      <td>46.863358</td>\n",
              "      <td>normal</td>\n",
              "    </tr>\n",
              "    <tr>\n",
              "      <th>3</th>\n",
              "      <td>0</td>\n",
              "      <td>laki-laki</td>\n",
              "      <td>47.508026</td>\n",
              "      <td>normal</td>\n",
              "    </tr>\n",
              "    <tr>\n",
              "      <th>4</th>\n",
              "      <td>0</td>\n",
              "      <td>laki-laki</td>\n",
              "      <td>42.743494</td>\n",
              "      <td>severely stunted</td>\n",
              "    </tr>\n",
              "  </tbody>\n",
              "</table>\n",
              "</div>\n",
              "    <div class=\"colab-df-buttons\">\n",
              "\n",
              "  <div class=\"colab-df-container\">\n",
              "    <button class=\"colab-df-convert\" onclick=\"convertToInteractive('df-e668358f-72bc-49f5-960d-56fe2bf1817a')\"\n",
              "            title=\"Convert this dataframe to an interactive table.\"\n",
              "            style=\"display:none;\">\n",
              "\n",
              "  <svg xmlns=\"http://www.w3.org/2000/svg\" height=\"24px\" viewBox=\"0 -960 960 960\">\n",
              "    <path d=\"M120-120v-720h720v720H120Zm60-500h600v-160H180v160Zm220 220h160v-160H400v160Zm0 220h160v-160H400v160ZM180-400h160v-160H180v160Zm440 0h160v-160H620v160ZM180-180h160v-160H180v160Zm440 0h160v-160H620v160Z\"/>\n",
              "  </svg>\n",
              "    </button>\n",
              "\n",
              "  <style>\n",
              "    .colab-df-container {\n",
              "      display:flex;\n",
              "      gap: 12px;\n",
              "    }\n",
              "\n",
              "    .colab-df-convert {\n",
              "      background-color: #E8F0FE;\n",
              "      border: none;\n",
              "      border-radius: 50%;\n",
              "      cursor: pointer;\n",
              "      display: none;\n",
              "      fill: #1967D2;\n",
              "      height: 32px;\n",
              "      padding: 0 0 0 0;\n",
              "      width: 32px;\n",
              "    }\n",
              "\n",
              "    .colab-df-convert:hover {\n",
              "      background-color: #E2EBFA;\n",
              "      box-shadow: 0px 1px 2px rgba(60, 64, 67, 0.3), 0px 1px 3px 1px rgba(60, 64, 67, 0.15);\n",
              "      fill: #174EA6;\n",
              "    }\n",
              "\n",
              "    .colab-df-buttons div {\n",
              "      margin-bottom: 4px;\n",
              "    }\n",
              "\n",
              "    [theme=dark] .colab-df-convert {\n",
              "      background-color: #3B4455;\n",
              "      fill: #D2E3FC;\n",
              "    }\n",
              "\n",
              "    [theme=dark] .colab-df-convert:hover {\n",
              "      background-color: #434B5C;\n",
              "      box-shadow: 0px 1px 3px 1px rgba(0, 0, 0, 0.15);\n",
              "      filter: drop-shadow(0px 1px 2px rgba(0, 0, 0, 0.3));\n",
              "      fill: #FFFFFF;\n",
              "    }\n",
              "  </style>\n",
              "\n",
              "    <script>\n",
              "      const buttonEl =\n",
              "        document.querySelector('#df-e668358f-72bc-49f5-960d-56fe2bf1817a button.colab-df-convert');\n",
              "      buttonEl.style.display =\n",
              "        google.colab.kernel.accessAllowed ? 'block' : 'none';\n",
              "\n",
              "      async function convertToInteractive(key) {\n",
              "        const element = document.querySelector('#df-e668358f-72bc-49f5-960d-56fe2bf1817a');\n",
              "        const dataTable =\n",
              "          await google.colab.kernel.invokeFunction('convertToInteractive',\n",
              "                                                    [key], {});\n",
              "        if (!dataTable) return;\n",
              "\n",
              "        const docLinkHtml = 'Like what you see? Visit the ' +\n",
              "          '<a target=\"_blank\" href=https://colab.research.google.com/notebooks/data_table.ipynb>data table notebook</a>'\n",
              "          + ' to learn more about interactive tables.';\n",
              "        element.innerHTML = '';\n",
              "        dataTable['output_type'] = 'display_data';\n",
              "        await google.colab.output.renderOutput(dataTable, element);\n",
              "        const docLink = document.createElement('div');\n",
              "        docLink.innerHTML = docLinkHtml;\n",
              "        element.appendChild(docLink);\n",
              "      }\n",
              "    </script>\n",
              "  </div>\n",
              "\n",
              "\n",
              "<div id=\"df-70140f94-cc29-46bd-85e4-e6e4aa7e314d\">\n",
              "  <button class=\"colab-df-quickchart\" onclick=\"quickchart('df-70140f94-cc29-46bd-85e4-e6e4aa7e314d')\"\n",
              "            title=\"Suggest charts\"\n",
              "            style=\"display:none;\">\n",
              "\n",
              "<svg xmlns=\"http://www.w3.org/2000/svg\" height=\"24px\"viewBox=\"0 0 24 24\"\n",
              "     width=\"24px\">\n",
              "    <g>\n",
              "        <path d=\"M19 3H5c-1.1 0-2 .9-2 2v14c0 1.1.9 2 2 2h14c1.1 0 2-.9 2-2V5c0-1.1-.9-2-2-2zM9 17H7v-7h2v7zm4 0h-2V7h2v10zm4 0h-2v-4h2v4z\"/>\n",
              "    </g>\n",
              "</svg>\n",
              "  </button>\n",
              "\n",
              "<style>\n",
              "  .colab-df-quickchart {\n",
              "      --bg-color: #E8F0FE;\n",
              "      --fill-color: #1967D2;\n",
              "      --hover-bg-color: #E2EBFA;\n",
              "      --hover-fill-color: #174EA6;\n",
              "      --disabled-fill-color: #AAA;\n",
              "      --disabled-bg-color: #DDD;\n",
              "  }\n",
              "\n",
              "  [theme=dark] .colab-df-quickchart {\n",
              "      --bg-color: #3B4455;\n",
              "      --fill-color: #D2E3FC;\n",
              "      --hover-bg-color: #434B5C;\n",
              "      --hover-fill-color: #FFFFFF;\n",
              "      --disabled-bg-color: #3B4455;\n",
              "      --disabled-fill-color: #666;\n",
              "  }\n",
              "\n",
              "  .colab-df-quickchart {\n",
              "    background-color: var(--bg-color);\n",
              "    border: none;\n",
              "    border-radius: 50%;\n",
              "    cursor: pointer;\n",
              "    display: none;\n",
              "    fill: var(--fill-color);\n",
              "    height: 32px;\n",
              "    padding: 0;\n",
              "    width: 32px;\n",
              "  }\n",
              "\n",
              "  .colab-df-quickchart:hover {\n",
              "    background-color: var(--hover-bg-color);\n",
              "    box-shadow: 0 1px 2px rgba(60, 64, 67, 0.3), 0 1px 3px 1px rgba(60, 64, 67, 0.15);\n",
              "    fill: var(--button-hover-fill-color);\n",
              "  }\n",
              "\n",
              "  .colab-df-quickchart-complete:disabled,\n",
              "  .colab-df-quickchart-complete:disabled:hover {\n",
              "    background-color: var(--disabled-bg-color);\n",
              "    fill: var(--disabled-fill-color);\n",
              "    box-shadow: none;\n",
              "  }\n",
              "\n",
              "  .colab-df-spinner {\n",
              "    border: 2px solid var(--fill-color);\n",
              "    border-color: transparent;\n",
              "    border-bottom-color: var(--fill-color);\n",
              "    animation:\n",
              "      spin 1s steps(1) infinite;\n",
              "  }\n",
              "\n",
              "  @keyframes spin {\n",
              "    0% {\n",
              "      border-color: transparent;\n",
              "      border-bottom-color: var(--fill-color);\n",
              "      border-left-color: var(--fill-color);\n",
              "    }\n",
              "    20% {\n",
              "      border-color: transparent;\n",
              "      border-left-color: var(--fill-color);\n",
              "      border-top-color: var(--fill-color);\n",
              "    }\n",
              "    30% {\n",
              "      border-color: transparent;\n",
              "      border-left-color: var(--fill-color);\n",
              "      border-top-color: var(--fill-color);\n",
              "      border-right-color: var(--fill-color);\n",
              "    }\n",
              "    40% {\n",
              "      border-color: transparent;\n",
              "      border-right-color: var(--fill-color);\n",
              "      border-top-color: var(--fill-color);\n",
              "    }\n",
              "    60% {\n",
              "      border-color: transparent;\n",
              "      border-right-color: var(--fill-color);\n",
              "    }\n",
              "    80% {\n",
              "      border-color: transparent;\n",
              "      border-right-color: var(--fill-color);\n",
              "      border-bottom-color: var(--fill-color);\n",
              "    }\n",
              "    90% {\n",
              "      border-color: transparent;\n",
              "      border-bottom-color: var(--fill-color);\n",
              "    }\n",
              "  }\n",
              "</style>\n",
              "\n",
              "  <script>\n",
              "    async function quickchart(key) {\n",
              "      const quickchartButtonEl =\n",
              "        document.querySelector('#' + key + ' button');\n",
              "      quickchartButtonEl.disabled = true;  // To prevent multiple clicks.\n",
              "      quickchartButtonEl.classList.add('colab-df-spinner');\n",
              "      try {\n",
              "        const charts = await google.colab.kernel.invokeFunction(\n",
              "            'suggestCharts', [key], {});\n",
              "      } catch (error) {\n",
              "        console.error('Error during call to suggestCharts:', error);\n",
              "      }\n",
              "      quickchartButtonEl.classList.remove('colab-df-spinner');\n",
              "      quickchartButtonEl.classList.add('colab-df-quickchart-complete');\n",
              "    }\n",
              "    (() => {\n",
              "      let quickchartButtonEl =\n",
              "        document.querySelector('#df-70140f94-cc29-46bd-85e4-e6e4aa7e314d button');\n",
              "      quickchartButtonEl.style.display =\n",
              "        google.colab.kernel.accessAllowed ? 'block' : 'none';\n",
              "    })();\n",
              "  </script>\n",
              "</div>\n",
              "\n",
              "    </div>\n",
              "  </div>\n"
            ],
            "application/vnd.google.colaboratory.intrinsic+json": {
              "type": "dataframe",
              "variable_name": "df"
            }
          },
          "metadata": {},
          "execution_count": 3
        }
      ]
    },
    {
      "cell_type": "code",
      "source": [
        "df.shape"
      ],
      "metadata": {
        "colab": {
          "base_uri": "https://localhost:8080/"
        },
        "id": "1dOQUH8r4CFR",
        "outputId": "fb99296f-0f13-414b-82c1-31f3babeee38"
      },
      "execution_count": null,
      "outputs": [
        {
          "output_type": "execute_result",
          "data": {
            "text/plain": [
              "(120999, 4)"
            ]
          },
          "metadata": {},
          "execution_count": 4
        }
      ]
    },
    {
      "cell_type": "code",
      "source": [
        "duplicates = df.duplicated().sum()"
      ],
      "metadata": {
        "id": "VIAS3SMKSu9o"
      },
      "execution_count": null,
      "outputs": []
    },
    {
      "cell_type": "code",
      "source": [
        "df = df.drop_duplicates()"
      ],
      "metadata": {
        "id": "GCVH2ICFS060"
      },
      "execution_count": null,
      "outputs": []
    },
    {
      "cell_type": "code",
      "source": [
        "print(f\"Jumlah baris yang dihapus: {df}\")"
      ],
      "metadata": {
        "colab": {
          "base_uri": "https://localhost:8080/"
        },
        "id": "vc00qpGHS3O8",
        "outputId": "825f86d9-ae10-4c70-93bb-e5f158557779"
      },
      "execution_count": null,
      "outputs": [
        {
          "output_type": "stream",
          "name": "stdout",
          "text": [
            "Jumlah baris yang dihapus:         Umur (bulan) Jenis Kelamin  Tinggi Badan (cm)       Status Gizi\n",
            "0                  0     laki-laki          44.591973           stunted\n",
            "1                  0     laki-laki          56.705203            tinggi\n",
            "2                  0     laki-laki          46.863358            normal\n",
            "3                  0     laki-laki          47.508026            normal\n",
            "4                  0     laki-laki          42.743494  severely stunted\n",
            "...              ...           ...                ...               ...\n",
            "120959            60     perempuan         100.700000            normal\n",
            "120967            60     perempuan         113.700000            normal\n",
            "120968            60     perempuan         107.500000            normal\n",
            "120972            60     perempuan         127.600000            tinggi\n",
            "120993            60     perempuan         116.100000            normal\n",
            "\n",
            "[39425 rows x 4 columns]\n"
          ]
        }
      ]
    },
    {
      "cell_type": "code",
      "source": [
        "from imblearn.over_sampling import SMOTE\n",
        "from imblearn.under_sampling import RandomUnderSampler\n",
        "from collections import Counter\n",
        "\n",
        "# Menampilkan distribusi awal\n",
        "print(f\"Distribusi kelas awal: {Counter(df['Status Gizi'])}\")\n",
        "\n",
        "# Encoding categorical features (karena SMOTE hanya bekerja dengan nilai numerik)\n",
        "# df_encoded = pd.get_dummies(df, columns=['Jenis Kelamin','Status Gizi'])\n",
        "\n",
        "# 1. Encode Categorical Variables\n",
        "# Menggunakan LabelEncoder untuk mengonversi kategori menjadi angka\n",
        "label_encoder_gender = LabelEncoder()\n",
        "df['Jenis Kelamin'] = label_encoder_gender.fit_transform(df['Jenis Kelamin'])\n",
        "\n",
        "label_encoder_status = LabelEncoder()\n",
        "df['Status Gizi'] = label_encoder_status.fit_transform(df['Status Gizi'])\n",
        "\n",
        "# Tampilkan beberapa baris pertama setelah encoding\n",
        "print(\"\\nData setelah encoding:\")\n",
        "print(df.head())\n",
        "\n",
        "# 2. Normalize Numerical Features\n",
        "# Inisialisasi Min-Max Scaler\n",
        "minmax_scaler = MinMaxScaler()\n",
        "\n",
        "df[['Tinggi Badan (cm)', 'Umur (bulan)']] = minmax_scaler.fit_transform(df[['Tinggi Badan (cm)', 'Umur (bulan)']])\n",
        "\n",
        "# Tampilkan beberapa baris pertama setelah normalisasi\n",
        "print(\"\\nData setelah normalisasi:\")\n",
        "print(df.head())\n",
        "\n",
        "# Pisahkan fitur dan label\n",
        "X = df.drop(columns=['Status Gizi'],axis=1)\n",
        "y = df['Status Gizi']\n",
        "\n",
        "# Tampilkan dimensi dari X dan y\n",
        "print(\"\\nDimensi fitur dan label:\")\n",
        "print(f\"X shape: {X.shape}\")\n",
        "print(f\"y shape: {y.shape}\")\n",
        "\n",
        "# Tampilkan beberapa baris pertama dari X dan y\n",
        "print(\"\\nBeberapa baris pertama dari fitur:\")\n",
        "print(X.head())\n",
        "print(\"\\nBeberapa baris pertama dari label:\")\n",
        "print(y.head())\n",
        "\n",
        "# Oversampling dengan SMOTE\n",
        "#smote = SMOTE(random_state=42)\n",
        "#X_oversampled, y_oversampled = smote.fit_resample(X, y)\n",
        "\n",
        "# Undersampling dengan Random Under Sampler\n",
        "undersampler = RandomUnderSampler(random_state=42)\n",
        "X_undersampled, y_undersampled = undersampler.fit_resample(X, y)\n",
        "# Menampilkan distribusi awal\n",
        "print(f\"Distribusi kelas awal: {Counter(df['Status Gizi'])}\")\n",
        "# Menampilkan hasil distribusi setelah undersampling\n",
        "print(f\"Distribusi kelas setelah undersampling: {Counter(y_undersampled)}\"\n",
        "\n",
        "# Menampilkan hasil distribusi setelah oversampling dan undersampling\n",
        "#print(f\"Distribusi kelas setelah oversampling: {Counter(y_oversampled)}\")\n",
        "#print(f\"Distribusi kelas setelah undersampling: {Counter(y_undersampled)}\")"
      ],
      "metadata": {
        "colab": {
          "base_uri": "https://localhost:8080/",
          "height": 111
        },
        "id": "VuVzgvCI36h4",
        "outputId": "676565f4-fa83-44eb-d542-cd8f3fe508d4"
      },
      "execution_count": null,
      "outputs": [
        {
          "output_type": "error",
          "ename": "SyntaxError",
          "evalue": "incomplete input (<ipython-input-8-9ba3df2139d1>, line 62)",
          "traceback": [
            "\u001b[0;36m  File \u001b[0;32m\"<ipython-input-8-9ba3df2139d1>\"\u001b[0;36m, line \u001b[0;32m62\u001b[0m\n\u001b[0;31m    #print(f\"Distribusi kelas setelah undersampling: {Counter(y_undersampled)}\")\u001b[0m\n\u001b[0m                                                                                ^\u001b[0m\n\u001b[0;31mSyntaxError\u001b[0m\u001b[0;31m:\u001b[0m incomplete input\n"
          ]
        }
      ]
    },
    {
      "cell_type": "code",
      "source": [
        "from imblearn.over_sampling import SMOTE\n",
        "from imblearn.under_sampling import RandomUnderSampler\n",
        "from sklearn.preprocessing import LabelEncoder, MinMaxScaler\n",
        "from collections import Counter\n",
        "import pandas as pd\n",
        "\n",
        "# Menampilkan distribusi awal\n",
        "print(f\"Distribusi kelas awal: {Counter(df['Status Gizi'])}\")\n",
        "\n",
        "# 1. Encode Categorical Variables\n",
        "# Menggunakan LabelEncoder untuk mengonversi kategori menjadi angka\n",
        "label_encoder_gender = LabelEncoder()\n",
        "df['Jenis Kelamin'] = label_encoder_gender.fit_transform(df['Jenis Kelamin'])\n",
        "\n",
        "label_encoder_status = LabelEncoder()\n",
        "df['Status Gizi'] = label_encoder_status.fit_transform(df['Status Gizi'])\n",
        "\n",
        "# Tampilkan mapping antara label asli dan label yang di-encode\n",
        "status_mapping = dict(zip(label_encoder_status.classes_, label_encoder_status.transform(label_encoder_status.classes_)))\n",
        "print(\"\\nMapping Status Gizi (Original -> Encoded):\")\n",
        "print(status_mapping)\n",
        "\n",
        "gender_mapping = dict(zip(label_encoder_gender.classes_, label_encoder_gender.transform(label_encoder_gender.classes_)))\n",
        "print(\"\\nMapping Jenis Kelamin (Original -> Encoded):\")\n",
        "print(gender_mapping)\n",
        "\n",
        "# Tampilkan beberapa baris pertama setelah encoding\n",
        "print(\"\\nData setelah encoding:\")\n",
        "print(df.head())\n",
        "\n",
        "# 2. Normalize Numerical Features\n",
        "# Inisialisasi Min-Max Scaler\n",
        "minmax_scaler = MinMaxScaler()\n",
        "\n",
        "df[['Tinggi Badan (cm)', 'Umur (bulan)']] = minmax_scaler.fit_transform(df[['Tinggi Badan (cm)', 'Umur (bulan)']])\n",
        "\n",
        "# Tampilkan beberapa baris pertama setelah normalisasi\n",
        "print(\"\\nData setelah normalisasi:\")\n",
        "print(df.head())\n",
        "\n",
        "# Pisahkan fitur dan label\n",
        "X = df.drop(columns=['Status Gizi'], axis=1)\n",
        "y = df['Status Gizi']\n",
        "\n",
        "# Tampilkan dimensi dari X dan y\n",
        "print(\"\\nDimensi fitur dan label:\")\n",
        "print(f\"X shape: {X.shape}\")\n",
        "print(f\"y shape: {y.shape}\")\n",
        "\n",
        "# Tampilkan beberapa baris pertama dari X dan y\n",
        "print(\"\\nBeberapa baris pertama dari fitur:\")\n",
        "print(X.head())\n",
        "print(\"\\nBeberapa baris pertama dari label:\")\n",
        "print(y.head())\n",
        "\n",
        "# Undersampling dengan Random Under Sampler\n",
        "undersampler = RandomUnderSampler(random_state=42)\n",
        "X_undersampled, y_undersampled = undersampler.fit_resample(X, y)\n",
        "\n",
        "# Menampilkan distribusi kelas setelah undersampling\n",
        "print(f\"\\nDistribusi kelas setelah undersampling: {Counter(y_undersampled)}\")\n",
        "\n",
        "# Jika ingin menambahkan oversampling dengan SMOTE (tergantung pada langkah selanjutnya)\n",
        "# smote = SMOTE(random_state=42)\n",
        "# X_oversampled, y_oversampled = smote.fit_resample(X, y)\n",
        "# print(f\"\\nDistribusi kelas setelah oversampling: {Counter(y_oversampled)}\")"
      ],
      "metadata": {
        "colab": {
          "base_uri": "https://localhost:8080/"
        },
        "id": "nCmozHnsz1SM",
        "outputId": "6a48a7ae-6917-4c25-9d4c-bac23c1d039e"
      },
      "execution_count": null,
      "outputs": [
        {
          "output_type": "stream",
          "name": "stdout",
          "text": [
            "Distribusi kelas awal: Counter({'normal': 21514, 'tinggi': 6974, 'severely stunted': 6520, 'stunted': 4417})\n",
            "\n",
            "Mapping Status Gizi (Original -> Encoded):\n",
            "{'normal': 0, 'severely stunted': 1, 'stunted': 2, 'tinggi': 3}\n",
            "\n",
            "Mapping Jenis Kelamin (Original -> Encoded):\n",
            "{'laki-laki': 0, 'perempuan': 1}\n",
            "\n",
            "Data setelah encoding:\n",
            "   Umur (bulan)  Jenis Kelamin  Tinggi Badan (cm)  Status Gizi\n",
            "0             0              0          44.591973            2\n",
            "1             0              0          56.705203            3\n",
            "2             0              0          46.863358            0\n",
            "3             0              0          47.508026            0\n",
            "4             0              0          42.743494            1\n",
            "\n",
            "Data setelah normalisasi:\n",
            "   Umur (bulan)  Jenis Kelamin  Tinggi Badan (cm)  Status Gizi\n",
            "0           0.0              0           0.052069            2\n",
            "1           0.0              0           0.189736            3\n",
            "2           0.0              0           0.077883            0\n",
            "3           0.0              0           0.085210            0\n",
            "4           0.0              0           0.031061            1\n",
            "\n",
            "Dimensi fitur dan label:\n",
            "X shape: (39425, 3)\n",
            "y shape: (39425,)\n",
            "\n",
            "Beberapa baris pertama dari fitur:\n",
            "   Umur (bulan)  Jenis Kelamin  Tinggi Badan (cm)\n",
            "0           0.0              0           0.052069\n",
            "1           0.0              0           0.189736\n",
            "2           0.0              0           0.077883\n",
            "3           0.0              0           0.085210\n",
            "4           0.0              0           0.031061\n",
            "\n",
            "Beberapa baris pertama dari label:\n",
            "0    2\n",
            "1    3\n",
            "2    0\n",
            "3    0\n",
            "4    1\n",
            "Name: Status Gizi, dtype: int64\n",
            "\n",
            "Distribusi kelas setelah undersampling: Counter({0: 4417, 1: 4417, 2: 4417, 3: 4417})\n"
          ]
        },
        {
          "output_type": "stream",
          "name": "stderr",
          "text": [
            "<ipython-input-9-0f74238cc970>:13: SettingWithCopyWarning: \n",
            "A value is trying to be set on a copy of a slice from a DataFrame.\n",
            "Try using .loc[row_indexer,col_indexer] = value instead\n",
            "\n",
            "See the caveats in the documentation: https://pandas.pydata.org/pandas-docs/stable/user_guide/indexing.html#returning-a-view-versus-a-copy\n",
            "  df['Jenis Kelamin'] = label_encoder_gender.fit_transform(df['Jenis Kelamin'])\n",
            "<ipython-input-9-0f74238cc970>:16: SettingWithCopyWarning: \n",
            "A value is trying to be set on a copy of a slice from a DataFrame.\n",
            "Try using .loc[row_indexer,col_indexer] = value instead\n",
            "\n",
            "See the caveats in the documentation: https://pandas.pydata.org/pandas-docs/stable/user_guide/indexing.html#returning-a-view-versus-a-copy\n",
            "  df['Status Gizi'] = label_encoder_status.fit_transform(df['Status Gizi'])\n",
            "<ipython-input-9-0f74238cc970>:35: SettingWithCopyWarning: \n",
            "A value is trying to be set on a copy of a slice from a DataFrame.\n",
            "Try using .loc[row_indexer,col_indexer] = value instead\n",
            "\n",
            "See the caveats in the documentation: https://pandas.pydata.org/pandas-docs/stable/user_guide/indexing.html#returning-a-view-versus-a-copy\n",
            "  df[['Tinggi Badan (cm)', 'Umur (bulan)']] = minmax_scaler.fit_transform(df[['Tinggi Badan (cm)', 'Umur (bulan)']])\n"
          ]
        }
      ]
    },
    {
      "cell_type": "code",
      "source": [
        "print(f\"Distribusi kelas awal: {Counter(df['Status Gizi'])}\")\n",
        "print(f\"Distribusi kelas setelah undersampling: {Counter(y_undersampled)}\")"
      ],
      "metadata": {
        "colab": {
          "base_uri": "https://localhost:8080/"
        },
        "id": "w38-rINhzPIM",
        "outputId": "d43d956e-30fa-45cf-b0c7-f26cc5fbf575"
      },
      "execution_count": null,
      "outputs": [
        {
          "output_type": "stream",
          "name": "stdout",
          "text": [
            "Distribusi kelas awal: Counter({0: 21514, 3: 6974, 1: 6520, 2: 4417})\n",
            "Distribusi kelas setelah undersampling: Counter({0: 4417, 1: 4417, 2: 4417, 3: 4417})\n"
          ]
        }
      ]
    },
    {
      "cell_type": "code",
      "source": [
        "df.tail()"
      ],
      "metadata": {
        "colab": {
          "base_uri": "https://localhost:8080/",
          "height": 206
        },
        "id": "mmIxFDwLZ95X",
        "outputId": "8e3ccd72-556e-47ec-bbaa-515a0352ce21"
      },
      "execution_count": null,
      "outputs": [
        {
          "output_type": "execute_result",
          "data": {
            "text/plain": [
              "        Umur (bulan)  Jenis Kelamin  Tinggi Badan (cm)  Status Gizi\n",
              "120959           1.0              1           0.689736            0\n",
              "120967           1.0              1           0.837481            0\n",
              "120968           1.0              1           0.767018            0\n",
              "120972           1.0              1           0.995454            3\n",
              "120993           1.0              1           0.864757            0"
            ],
            "text/html": [
              "\n",
              "  <div id=\"df-d49eae9d-1bf7-47c3-a1e6-c342d1613049\" class=\"colab-df-container\">\n",
              "    <div>\n",
              "<style scoped>\n",
              "    .dataframe tbody tr th:only-of-type {\n",
              "        vertical-align: middle;\n",
              "    }\n",
              "\n",
              "    .dataframe tbody tr th {\n",
              "        vertical-align: top;\n",
              "    }\n",
              "\n",
              "    .dataframe thead th {\n",
              "        text-align: right;\n",
              "    }\n",
              "</style>\n",
              "<table border=\"1\" class=\"dataframe\">\n",
              "  <thead>\n",
              "    <tr style=\"text-align: right;\">\n",
              "      <th></th>\n",
              "      <th>Umur (bulan)</th>\n",
              "      <th>Jenis Kelamin</th>\n",
              "      <th>Tinggi Badan (cm)</th>\n",
              "      <th>Status Gizi</th>\n",
              "    </tr>\n",
              "  </thead>\n",
              "  <tbody>\n",
              "    <tr>\n",
              "      <th>120959</th>\n",
              "      <td>1.0</td>\n",
              "      <td>1</td>\n",
              "      <td>0.689736</td>\n",
              "      <td>0</td>\n",
              "    </tr>\n",
              "    <tr>\n",
              "      <th>120967</th>\n",
              "      <td>1.0</td>\n",
              "      <td>1</td>\n",
              "      <td>0.837481</td>\n",
              "      <td>0</td>\n",
              "    </tr>\n",
              "    <tr>\n",
              "      <th>120968</th>\n",
              "      <td>1.0</td>\n",
              "      <td>1</td>\n",
              "      <td>0.767018</td>\n",
              "      <td>0</td>\n",
              "    </tr>\n",
              "    <tr>\n",
              "      <th>120972</th>\n",
              "      <td>1.0</td>\n",
              "      <td>1</td>\n",
              "      <td>0.995454</td>\n",
              "      <td>3</td>\n",
              "    </tr>\n",
              "    <tr>\n",
              "      <th>120993</th>\n",
              "      <td>1.0</td>\n",
              "      <td>1</td>\n",
              "      <td>0.864757</td>\n",
              "      <td>0</td>\n",
              "    </tr>\n",
              "  </tbody>\n",
              "</table>\n",
              "</div>\n",
              "    <div class=\"colab-df-buttons\">\n",
              "\n",
              "  <div class=\"colab-df-container\">\n",
              "    <button class=\"colab-df-convert\" onclick=\"convertToInteractive('df-d49eae9d-1bf7-47c3-a1e6-c342d1613049')\"\n",
              "            title=\"Convert this dataframe to an interactive table.\"\n",
              "            style=\"display:none;\">\n",
              "\n",
              "  <svg xmlns=\"http://www.w3.org/2000/svg\" height=\"24px\" viewBox=\"0 -960 960 960\">\n",
              "    <path d=\"M120-120v-720h720v720H120Zm60-500h600v-160H180v160Zm220 220h160v-160H400v160Zm0 220h160v-160H400v160ZM180-400h160v-160H180v160Zm440 0h160v-160H620v160ZM180-180h160v-160H180v160Zm440 0h160v-160H620v160Z\"/>\n",
              "  </svg>\n",
              "    </button>\n",
              "\n",
              "  <style>\n",
              "    .colab-df-container {\n",
              "      display:flex;\n",
              "      gap: 12px;\n",
              "    }\n",
              "\n",
              "    .colab-df-convert {\n",
              "      background-color: #E8F0FE;\n",
              "      border: none;\n",
              "      border-radius: 50%;\n",
              "      cursor: pointer;\n",
              "      display: none;\n",
              "      fill: #1967D2;\n",
              "      height: 32px;\n",
              "      padding: 0 0 0 0;\n",
              "      width: 32px;\n",
              "    }\n",
              "\n",
              "    .colab-df-convert:hover {\n",
              "      background-color: #E2EBFA;\n",
              "      box-shadow: 0px 1px 2px rgba(60, 64, 67, 0.3), 0px 1px 3px 1px rgba(60, 64, 67, 0.15);\n",
              "      fill: #174EA6;\n",
              "    }\n",
              "\n",
              "    .colab-df-buttons div {\n",
              "      margin-bottom: 4px;\n",
              "    }\n",
              "\n",
              "    [theme=dark] .colab-df-convert {\n",
              "      background-color: #3B4455;\n",
              "      fill: #D2E3FC;\n",
              "    }\n",
              "\n",
              "    [theme=dark] .colab-df-convert:hover {\n",
              "      background-color: #434B5C;\n",
              "      box-shadow: 0px 1px 3px 1px rgba(0, 0, 0, 0.15);\n",
              "      filter: drop-shadow(0px 1px 2px rgba(0, 0, 0, 0.3));\n",
              "      fill: #FFFFFF;\n",
              "    }\n",
              "  </style>\n",
              "\n",
              "    <script>\n",
              "      const buttonEl =\n",
              "        document.querySelector('#df-d49eae9d-1bf7-47c3-a1e6-c342d1613049 button.colab-df-convert');\n",
              "      buttonEl.style.display =\n",
              "        google.colab.kernel.accessAllowed ? 'block' : 'none';\n",
              "\n",
              "      async function convertToInteractive(key) {\n",
              "        const element = document.querySelector('#df-d49eae9d-1bf7-47c3-a1e6-c342d1613049');\n",
              "        const dataTable =\n",
              "          await google.colab.kernel.invokeFunction('convertToInteractive',\n",
              "                                                    [key], {});\n",
              "        if (!dataTable) return;\n",
              "\n",
              "        const docLinkHtml = 'Like what you see? Visit the ' +\n",
              "          '<a target=\"_blank\" href=https://colab.research.google.com/notebooks/data_table.ipynb>data table notebook</a>'\n",
              "          + ' to learn more about interactive tables.';\n",
              "        element.innerHTML = '';\n",
              "        dataTable['output_type'] = 'display_data';\n",
              "        await google.colab.output.renderOutput(dataTable, element);\n",
              "        const docLink = document.createElement('div');\n",
              "        docLink.innerHTML = docLinkHtml;\n",
              "        element.appendChild(docLink);\n",
              "      }\n",
              "    </script>\n",
              "  </div>\n",
              "\n",
              "\n",
              "<div id=\"df-94d07d2e-9aed-4edd-85d7-96d46e0dffa0\">\n",
              "  <button class=\"colab-df-quickchart\" onclick=\"quickchart('df-94d07d2e-9aed-4edd-85d7-96d46e0dffa0')\"\n",
              "            title=\"Suggest charts\"\n",
              "            style=\"display:none;\">\n",
              "\n",
              "<svg xmlns=\"http://www.w3.org/2000/svg\" height=\"24px\"viewBox=\"0 0 24 24\"\n",
              "     width=\"24px\">\n",
              "    <g>\n",
              "        <path d=\"M19 3H5c-1.1 0-2 .9-2 2v14c0 1.1.9 2 2 2h14c1.1 0 2-.9 2-2V5c0-1.1-.9-2-2-2zM9 17H7v-7h2v7zm4 0h-2V7h2v10zm4 0h-2v-4h2v4z\"/>\n",
              "    </g>\n",
              "</svg>\n",
              "  </button>\n",
              "\n",
              "<style>\n",
              "  .colab-df-quickchart {\n",
              "      --bg-color: #E8F0FE;\n",
              "      --fill-color: #1967D2;\n",
              "      --hover-bg-color: #E2EBFA;\n",
              "      --hover-fill-color: #174EA6;\n",
              "      --disabled-fill-color: #AAA;\n",
              "      --disabled-bg-color: #DDD;\n",
              "  }\n",
              "\n",
              "  [theme=dark] .colab-df-quickchart {\n",
              "      --bg-color: #3B4455;\n",
              "      --fill-color: #D2E3FC;\n",
              "      --hover-bg-color: #434B5C;\n",
              "      --hover-fill-color: #FFFFFF;\n",
              "      --disabled-bg-color: #3B4455;\n",
              "      --disabled-fill-color: #666;\n",
              "  }\n",
              "\n",
              "  .colab-df-quickchart {\n",
              "    background-color: var(--bg-color);\n",
              "    border: none;\n",
              "    border-radius: 50%;\n",
              "    cursor: pointer;\n",
              "    display: none;\n",
              "    fill: var(--fill-color);\n",
              "    height: 32px;\n",
              "    padding: 0;\n",
              "    width: 32px;\n",
              "  }\n",
              "\n",
              "  .colab-df-quickchart:hover {\n",
              "    background-color: var(--hover-bg-color);\n",
              "    box-shadow: 0 1px 2px rgba(60, 64, 67, 0.3), 0 1px 3px 1px rgba(60, 64, 67, 0.15);\n",
              "    fill: var(--button-hover-fill-color);\n",
              "  }\n",
              "\n",
              "  .colab-df-quickchart-complete:disabled,\n",
              "  .colab-df-quickchart-complete:disabled:hover {\n",
              "    background-color: var(--disabled-bg-color);\n",
              "    fill: var(--disabled-fill-color);\n",
              "    box-shadow: none;\n",
              "  }\n",
              "\n",
              "  .colab-df-spinner {\n",
              "    border: 2px solid var(--fill-color);\n",
              "    border-color: transparent;\n",
              "    border-bottom-color: var(--fill-color);\n",
              "    animation:\n",
              "      spin 1s steps(1) infinite;\n",
              "  }\n",
              "\n",
              "  @keyframes spin {\n",
              "    0% {\n",
              "      border-color: transparent;\n",
              "      border-bottom-color: var(--fill-color);\n",
              "      border-left-color: var(--fill-color);\n",
              "    }\n",
              "    20% {\n",
              "      border-color: transparent;\n",
              "      border-left-color: var(--fill-color);\n",
              "      border-top-color: var(--fill-color);\n",
              "    }\n",
              "    30% {\n",
              "      border-color: transparent;\n",
              "      border-left-color: var(--fill-color);\n",
              "      border-top-color: var(--fill-color);\n",
              "      border-right-color: var(--fill-color);\n",
              "    }\n",
              "    40% {\n",
              "      border-color: transparent;\n",
              "      border-right-color: var(--fill-color);\n",
              "      border-top-color: var(--fill-color);\n",
              "    }\n",
              "    60% {\n",
              "      border-color: transparent;\n",
              "      border-right-color: var(--fill-color);\n",
              "    }\n",
              "    80% {\n",
              "      border-color: transparent;\n",
              "      border-right-color: var(--fill-color);\n",
              "      border-bottom-color: var(--fill-color);\n",
              "    }\n",
              "    90% {\n",
              "      border-color: transparent;\n",
              "      border-bottom-color: var(--fill-color);\n",
              "    }\n",
              "  }\n",
              "</style>\n",
              "\n",
              "  <script>\n",
              "    async function quickchart(key) {\n",
              "      const quickchartButtonEl =\n",
              "        document.querySelector('#' + key + ' button');\n",
              "      quickchartButtonEl.disabled = true;  // To prevent multiple clicks.\n",
              "      quickchartButtonEl.classList.add('colab-df-spinner');\n",
              "      try {\n",
              "        const charts = await google.colab.kernel.invokeFunction(\n",
              "            'suggestCharts', [key], {});\n",
              "      } catch (error) {\n",
              "        console.error('Error during call to suggestCharts:', error);\n",
              "      }\n",
              "      quickchartButtonEl.classList.remove('colab-df-spinner');\n",
              "      quickchartButtonEl.classList.add('colab-df-quickchart-complete');\n",
              "    }\n",
              "    (() => {\n",
              "      let quickchartButtonEl =\n",
              "        document.querySelector('#df-94d07d2e-9aed-4edd-85d7-96d46e0dffa0 button');\n",
              "      quickchartButtonEl.style.display =\n",
              "        google.colab.kernel.accessAllowed ? 'block' : 'none';\n",
              "    })();\n",
              "  </script>\n",
              "</div>\n",
              "\n",
              "    </div>\n",
              "  </div>\n"
            ],
            "application/vnd.google.colaboratory.intrinsic+json": {
              "type": "dataframe",
              "summary": "{\n  \"name\": \"df\",\n  \"rows\": 5,\n  \"fields\": [\n    {\n      \"column\": \"Umur (bulan)\",\n      \"properties\": {\n        \"dtype\": \"number\",\n        \"std\": 0.0,\n        \"min\": 1.0,\n        \"max\": 1.0,\n        \"num_unique_values\": 1,\n        \"samples\": [\n          1.0\n        ],\n        \"semantic_type\": \"\",\n        \"description\": \"\"\n      }\n    },\n    {\n      \"column\": \"Jenis Kelamin\",\n      \"properties\": {\n        \"dtype\": \"number\",\n        \"std\": 0,\n        \"min\": 1,\n        \"max\": 1,\n        \"num_unique_values\": 1,\n        \"samples\": [\n          1\n        ],\n        \"semantic_type\": \"\",\n        \"description\": \"\"\n      }\n    },\n    {\n      \"column\": \"Tinggi Badan (cm)\",\n      \"properties\": {\n        \"dtype\": \"number\",\n        \"std\": 0.11431954019924873,\n        \"min\": 0.6897359292355344,\n        \"max\": 0.9954540062891651,\n        \"num_unique_values\": 5,\n        \"samples\": [\n          0.8374807248376609\n        ],\n        \"semantic_type\": \"\",\n        \"description\": \"\"\n      }\n    },\n    {\n      \"column\": \"Status Gizi\",\n      \"properties\": {\n        \"dtype\": \"number\",\n        \"std\": 1,\n        \"min\": 0,\n        \"max\": 3,\n        \"num_unique_values\": 2,\n        \"samples\": [\n          3\n        ],\n        \"semantic_type\": \"\",\n        \"description\": \"\"\n      }\n    }\n  ]\n}"
            }
          },
          "metadata": {},
          "execution_count": 11
        }
      ]
    },
    {
      "cell_type": "code",
      "source": [
        "import pandas as pd\n",
        "from sklearn.svm import SVC\n",
        "from sklearn.ensemble import RandomForestClassifier\n",
        "from sklearn.model_selection import train_test_split, cross_val_score\n",
        "from sklearn.metrics import classification_report, confusion_matrix\n",
        "import matplotlib.pyplot as plt\n",
        "import seaborn as sns"
      ],
      "metadata": {
        "id": "MyBMQj_64deS"
      },
      "execution_count": null,
      "outputs": []
    },
    {
      "cell_type": "code",
      "source": [
        "X_train,X_test,y_train,y_test = train_test_split(X_undersampled,y_undersampled,test_size=0.2,random_state=42)\n",
        "print(\"X_train shape:\", X_train.shape)\n",
        "print(\"y_train shape:\", y_train.shape)\n",
        "print(\"X_test shape:\", X_test.shape)\n",
        "print(\"y_test shape:\", y_test.shape)"
      ],
      "metadata": {
        "colab": {
          "base_uri": "https://localhost:8080/"
        },
        "id": "5jixHpYR4hE1",
        "outputId": "694aff79-9c56-4ace-8422-b0ea2a1430e1"
      },
      "execution_count": null,
      "outputs": [
        {
          "output_type": "stream",
          "name": "stdout",
          "text": [
            "X_train shape: (14134, 3)\n",
            "y_train shape: (14134,)\n",
            "X_test shape: (3534, 3)\n",
            "y_test shape: (3534,)\n"
          ]
        }
      ]
    },
    {
      "cell_type": "code",
      "source": [
        "svm_model= SVC(probability=True, random_state=42)\n",
        "svm_model.fit(X_train, y_train)\n",
        "y_pred= svm_model.predict(X_test)"
      ],
      "metadata": {
        "id": "aHN1OF6Q4idH"
      },
      "execution_count": null,
      "outputs": []
    },
    {
      "cell_type": "code",
      "source": [
        "print(\"SVM\")\n",
        "print(\"Confusion Matrix:\")\n",
        "print(confusion_matrix(y_test, y_pred))\n",
        "print(\"\\nClassification Report :\")\n",
        "print(classification_report(y_test, y_pred))"
      ],
      "metadata": {
        "colab": {
          "base_uri": "https://localhost:8080/"
        },
        "id": "JqlvihEi4p0e",
        "outputId": "886afa69-5f06-4c3e-9c0a-0ea73a3574a4"
      },
      "execution_count": null,
      "outputs": [
        {
          "output_type": "stream",
          "name": "stdout",
          "text": [
            "SVM\n",
            "Confusion Matrix:\n",
            "[[673   9  97  91]\n",
            " [  0 838  63   0]\n",
            " [  0  67 822   0]\n",
            " [  0   0   0 874]]\n",
            "\n",
            "Classification Report :\n",
            "              precision    recall  f1-score   support\n",
            "\n",
            "           0       1.00      0.77      0.87       870\n",
            "           1       0.92      0.93      0.92       901\n",
            "           2       0.84      0.92      0.88       889\n",
            "           3       0.91      1.00      0.95       874\n",
            "\n",
            "    accuracy                           0.91      3534\n",
            "   macro avg       0.91      0.91      0.91      3534\n",
            "weighted avg       0.91      0.91      0.91      3534\n",
            "\n"
          ]
        }
      ]
    },
    {
      "cell_type": "code",
      "source": [
        "# Plot the confusion matrix with the correct label order\n",
        "plt.figure(figsize=(10, 7))\n",
        "\n",
        "# Generate the confusion matrix\n",
        "conf_matrix_svm = confusion_matrix(y_test, y_pred)\n",
        "\n",
        "# Reordering the labels based on the correct encoded values\n",
        "labels = ['Normal', 'Severely Stunted', 'Stunted', 'Tall']  # Matches the encoding: 0, 1, 2, 3\n",
        "\n",
        "# Plot the heatmap\n",
        "sns.heatmap(conf_matrix_svm, annot=True, fmt='d', cmap='Blues', xticklabels=labels, yticklabels=labels)\n",
        "\n",
        "# Adding labels and title\n",
        "plt.xlabel('Predicted')\n",
        "plt.ylabel('Actual')\n",
        "plt.title('Confusion Matrix (SVM)')\n",
        "plt.show()"
      ],
      "metadata": {
        "colab": {
          "base_uri": "https://localhost:8080/",
          "height": 641
        },
        "id": "WkR22flOTU7Y",
        "outputId": "71294d79-2a96-4640-9e2b-078b597cae5b"
      },
      "execution_count": null,
      "outputs": [
        {
          "output_type": "display_data",
          "data": {
            "text/plain": [
              "<Figure size 1000x700 with 2 Axes>"
            ],
            "image/png": "[encoded data removed]"
          },
          "metadata": {}
        }
      ]
    },
    {
      "cell_type": "code",
      "source": [
        "from sklearn.metrics import classification_report,confusion_matrix,roc_auc_score, accuracy_score, precision_score, recall_score, f1_score\n",
        "svm_acc = accuracy_score(y_test, y_pred)\n",
        "svm_prec = precision_score(y_test, y_pred, average=None)\n",
        "svm_rec = recall_score(y_test, y_pred,average=None)\n",
        "svm_f1 = f1_score(y_test, y_pred,average=None)\n",
        "print(f'Accuracy SVM : {svm_acc}\\nPrecision SVM : {svm_prec}\\nRecall SVM : {svm_rec}\\nF1 SVM : {svm_f1}')"
      ],
      "metadata": {
        "colab": {
          "base_uri": "https://localhost:8080/"
        },
        "id": "mTB1OoKtHS_E",
        "outputId": "7c696892-d9a1-4932-8a6f-943a23ab5a10"
      },
      "execution_count": null,
      "outputs": [
        {
          "output_type": "stream",
          "name": "stdout",
          "text": [
            "Accuracy SVM : 0.9074702886247877\n",
            "Precision SVM : [1.         0.91684902 0.83706721 0.90569948]\n",
            "Recall SVM : [0.77356322 0.93007769 0.92463442 1.        ]\n",
            "F1 SVM : [0.87232664 0.92341598 0.87867451 0.95051659]\n"
          ]
        }
      ]
    },
    {
      "cell_type": "code",
      "source": [
        "cv_scores_linear = cross_val_score(svm_model, X_train, y_train, cv=5)\n",
        "print(\"\\nCross-validation Scores (Linear Kernel):\")\n",
        "print(cv_scores_linear)\n",
        "print(f\"Mean CV Score (Linear Kernel): {cv_scores_linear.mean()}\")"
      ],
      "metadata": {
        "id": "uTOgZeEW5kGl",
        "colab": {
          "base_uri": "https://localhost:8080/"
        },
        "outputId": "f195ac61-962a-4695-b554-280820408a3e"
      },
      "execution_count": null,
      "outputs": [
        {
          "output_type": "stream",
          "name": "stdout",
          "text": [
            "\n",
            "Cross-validation Scores (Linear Kernel):\n",
            "[0.89812522 0.90166254 0.89812522 0.89954015 0.89879689]\n",
            "Mean CV Score (Linear Kernel): 0.8992500033170187\n"
          ]
        }
      ]
    },
    {
      "cell_type": "code",
      "source": [
        "rf_model = RandomForestClassifier(n_estimators=50, random_state=42)\n",
        "rf_model.fit(X_train, y_train)\n",
        "y_pred_rf = rf_model.predict(X_test)"
      ],
      "metadata": {
        "id": "oPBZFm436O8F"
      },
      "execution_count": null,
      "outputs": []
    },
    {
      "cell_type": "code",
      "source": [
        "print(\"Random Forest\")\n",
        "print(\"Confusion Matrix (Random Forest):\")\n",
        "print(confusion_matrix(y_test, y_pred_rf))\n",
        "print(\"\\nClassification Report (Random Forest):\")\n",
        "print(classification_report(y_test, y_pred_rf))"
      ],
      "metadata": {
        "colab": {
          "base_uri": "https://localhost:8080/"
        },
        "id": "6agHttS56Pwo",
        "outputId": "e3ced8b4-5b66-4200-c302-766a68c76989"
      },
      "execution_count": null,
      "outputs": [
        {
          "output_type": "stream",
          "name": "stdout",
          "text": [
            "Random Forest\n",
            "Confusion Matrix (Random Forest):\n",
            "[[848   0   6  16]\n",
            " [  0 876  25   0]\n",
            " [  1   6 882   0]\n",
            " [  6   0   0 868]]\n",
            "\n",
            "Classification Report (Random Forest):\n",
            "              precision    recall  f1-score   support\n",
            "\n",
            "           0       0.99      0.97      0.98       870\n",
            "           1       0.99      0.97      0.98       901\n",
            "           2       0.97      0.99      0.98       889\n",
            "           3       0.98      0.99      0.99       874\n",
            "\n",
            "    accuracy                           0.98      3534\n",
            "   macro avg       0.98      0.98      0.98      3534\n",
            "weighted avg       0.98      0.98      0.98      3534\n",
            "\n"
          ]
        }
      ]
    },
    {
      "cell_type": "code",
      "source": [
        "cv_scores_rf = cross_val_score(rf_model, X_train, y_train, cv=5)\n",
        "print(\"\\nCross-validation Scores (Random Forest):\")\n",
        "print(cv_scores_rf)\n",
        "print(f\"Mean CV Score (Random Forest): {cv_scores_rf.mean()}\")"
      ],
      "metadata": {
        "colab": {
          "base_uri": "https://localhost:8080/"
        },
        "id": "Qcl0mVyp6T0h",
        "outputId": "0dcbf34f-32a4-4ea5-94e0-be5ad6571ed4"
      },
      "execution_count": null,
      "outputs": [
        {
          "output_type": "stream",
          "name": "stdout",
          "text": [
            "\n",
            "Cross-validation Scores (Random Forest):\n",
            "[0.97736116 0.97842236 0.98372833 0.97912982 0.97806086]\n",
            "Mean CV Score (Random Forest): 0.9793405066051228\n"
          ]
        }
      ]
    },
    {
      "cell_type": "code",
      "source": [
        "plt.figure(figsize=(10, 7))\n",
        "conf_matrix_rf = confusion_matrix(y_test, y_pred_rf)\n",
        "# Reordering the labels based on the correct encoded values\n",
        "labels = ['Normal', 'Severely Stunted', 'Stunted', 'Tall']  # Matches the encoding: 0, 1, 2, 3\n",
        "sns.heatmap(conf_matrix_rf, annot=True, fmt='d', cmap='Blues', xticklabels=labels, yticklabels=labels)\n",
        "plt.xlabel('Predicted')\n",
        "plt.ylabel('Actual')\n",
        "plt.title('Confusion Matrix (Random Forest)')\n",
        "plt.show()"
      ],
      "metadata": {
        "colab": {
          "base_uri": "https://localhost:8080/",
          "height": 641
        },
        "id": "6pE-4f_s6V_C",
        "outputId": "4c8fa832-4860-4e1a-f706-2ee6b3bca7ee"
      },
      "execution_count": null,
      "outputs": [
        {
          "output_type": "display_data",
          "data": {
            "text/plain": [
              "<Figure size 1000x700 with 2 Axes>"
            ],
            "image/png": "[encoded data removed]"
          },
          "metadata": {}
        }
      ]
    },
    {
      "cell_type": "code",
      "source": [
        "from sklearn.ensemble import RandomForestClassifier, VotingClassifier\n",
        "\n",
        "voting_clf = VotingClassifier(estimators=[\n",
        "    ('svm_linear', svm_model),\n",
        "    ('random_forest', rf_model)\n",
        "], voting='soft')\n",
        "voting_clf.fit(X_train, y_train)\n",
        "\n",
        "# Prediksi menggunakan Voting Classifier\n",
        "y_pred_voting = voting_clf.predict(X_test)"
      ],
      "metadata": {
        "id": "bRq0csZy6W5G"
      },
      "execution_count": null,
      "outputs": []
    },
    {
      "cell_type": "code",
      "source": [
        "# Cetak confusion matrix\n",
        "print(\"Voting Classifier\")\n",
        "print(\"Confusion Matrix (Voting Classifier):\")\n",
        "print(confusion_matrix(y_test, y_pred_voting))\n",
        "\n",
        "# Cetak classification report\n",
        "print(\"\\nClassification Report (Voting Classifier):\")\n",
        "print(classification_report(y_test, y_pred_voting))"
      ],
      "metadata": {
        "colab": {
          "base_uri": "https://localhost:8080/"
        },
        "id": "C-O5owCj6jk9",
        "outputId": "9c2adaed-774a-487c-8179-67c3df3b46ff"
      },
      "execution_count": null,
      "outputs": [
        {
          "output_type": "stream",
          "name": "stdout",
          "text": [
            "Voting Classifier\n",
            "Confusion Matrix (Voting Classifier):\n",
            "[[846   0   6  18]\n",
            " [  0 859  42   0]\n",
            " [  4   1 884   0]\n",
            " [  4   0   0 870]]\n",
            "\n",
            "Classification Report (Voting Classifier):\n",
            "              precision    recall  f1-score   support\n",
            "\n",
            "           0       0.99      0.97      0.98       870\n",
            "           1       1.00      0.95      0.98       901\n",
            "           2       0.95      0.99      0.97       889\n",
            "           3       0.98      1.00      0.99       874\n",
            "\n",
            "    accuracy                           0.98      3534\n",
            "   macro avg       0.98      0.98      0.98      3534\n",
            "weighted avg       0.98      0.98      0.98      3534\n",
            "\n"
          ]
        }
      ]
    },
    {
      "cell_type": "code",
      "source": [
        "cv_scores_voting = cross_val_score(voting_clf, X_train, y_train, cv=5)\n",
        "print(\"\\nCross-validation Scores (Voting Classifier):\")\n",
        "print(cv_scores_voting)\n",
        "print(f\"Mean CV Score (Voting Classifier): {cv_scores_voting.mean()}\")"
      ],
      "metadata": {
        "colab": {
          "base_uri": "https://localhost:8080/"
        },
        "id": "z7X2sjum6maA",
        "outputId": "bbd265ca-beb4-40e6-c0e8-b7dad55ea45c"
      },
      "execution_count": null,
      "outputs": [
        {
          "output_type": "stream",
          "name": "stdout",
          "text": [
            "\n",
            "Cross-validation Scores (Voting Classifier):\n",
            "[0.97700743 0.97842236 0.97877609 0.98125221 0.97735315]\n",
            "Mean CV Score (Voting Classifier): 0.978562246420186\n"
          ]
        }
      ]
    },
    {
      "cell_type": "code",
      "source": [
        "from sklearn.metrics import confusion_matrix\n",
        "import seaborn as sns\n",
        "import matplotlib.pyplot as plt\n",
        "\n",
        "# Plot Confusion Matrix untuk Voting Classifier\n",
        "plt.figure(figsize=(10, 7))\n",
        "\n",
        "# Hitung confusion matrix untuk Voting Classifier\n",
        "conf_matrix_voting = confusion_matrix(y_test, y_pred_voting)\n",
        "\n",
        "# Reordering the labels based on the correct encoded values\n",
        "labels = ['Normal', 'Severely Stunted', 'Stunted', 'Tall']  # Matches the encoding: 0, 1, 2, 3\n",
        "\n",
        "# Buat heatmap untuk confusion matrix\n",
        "sns.heatmap(conf_matrix_voting, annot=True, fmt='d', cmap='Blues', xticklabels=labels, yticklabels=labels)\n",
        "\n",
        "# Tambahkan label dan judul pada plot\n",
        "plt.xlabel('Predicted')\n",
        "plt.ylabel('Actual')\n",
        "plt.title('Confusion Matrix (Voting Classifier)')\n",
        "\n",
        "# Tampilkan plot\n",
        "plt.show()"
      ],
      "metadata": {
        "colab": {
          "base_uri": "https://localhost:8080/",
          "height": 641
        },
        "id": "Qoaw95xK4myU",
        "outputId": "25458534-ec95-433e-bfd5-7b30734202c2"
      },
      "execution_count": null,
      "outputs": [
        {
          "output_type": "display_data",
          "data": {
            "text/plain": [
              "<Figure size 1000x700 with 2 Axes>"
            ],
            "image/png": "[encoded data removed]"
          },
          "metadata": {}
        }
      ]
    },
    {
      "cell_type": "code",
      "source": [
        "import matplotlib.pyplot as plt\n",
        "import seaborn as sns\n",
        "\n",
        "# Mendapatkan hasil cross-validation\n",
        "cv_scores_voting = cross_val_score(voting_clf, X_train, y_train, cv=5)\n",
        "\n",
        "# Membuat plot boxplot untuk visualisasi hasil cross-validation\n",
        "plt.figure(figsize=(8, 6))\n",
        "sns.boxplot(y=cv_scores_voting, color='skyblue')\n",
        "plt.title('Cross-Validation Scores for Voting Classifier')\n",
        "plt.ylabel('Accuracy')\n",
        "plt.xlabel('Voting Classifier')\n",
        "plt.grid(True)\n",
        "plt.show()\n",
        "\n",
        "# Menampilkan nilai-nilai skor cross-validation dan rata-ratanya\n",
        "print(\"\\nCross-validation Scores (Voting Classifier):\")\n",
        "print(cv_scores_voting)\n",
        "print(f\"Mean CV Score (Voting Classifier): {cv_scores_voting.mean()}\")\n"
      ],
      "metadata": {
        "colab": {
          "base_uri": "https://localhost:8080/",
          "height": 619
        },
        "id": "2SmEG_a_JJ8s",
        "outputId": "d164a287-516a-410d-9222-0eeaf589c411"
      },
      "execution_count": null,
      "outputs": [
        {
          "output_type": "display_data",
          "data": {
            "text/plain": [
              "<Figure size 800x600 with 1 Axes>"
            ],
            "image/png": "[encoded data removed]"
          },
          "metadata": {}
        },
        {
          "output_type": "stream",
          "name": "stdout",
          "text": [
            "\n",
            "Cross-validation Scores (Voting Classifier):\n",
            "[0.97700743 0.97842236 0.97877609 0.98125221 0.97735315]\n",
            "Mean CV Score (Voting Classifier): 0.978562246420186\n"
          ]
        }
      ]
    },
    {
      "cell_type": "code",
      "source": [
        "import numpy as np\n",
        "# Testing model\n",
        "test = pd.DataFrame({'Umur (bulan)': [17], 'Jenis Kelamin': [1], 'Tinggi Badan (cm)': [90.4]})\n",
        "\n",
        "pred =voting_clf.predict(test)\n",
        "print(\"Predicted Score = {}\".format(np.array(pred)))"
      ],
      "metadata": {
        "id": "tMHlAly0R5F-",
        "colab": {
          "base_uri": "https://localhost:8080/"
        },
        "outputId": "4cfb7acd-f27e-4ae1-8f9f-98ec93904047"
      },
      "execution_count": null,
      "outputs": [
        {
          "output_type": "stream",
          "name": "stdout",
          "text": [
            "Predicted Score = [3]\n"
          ]
        }
      ]
    },
    {
      "cell_type": "code",
      "source": [
        "import joblib\n",
        "\n",
        "# Save the model\n",
        "joblib.dump(voting_clf, 'voting_classifier_model.pkl')"
      ],
      "metadata": {
        "id": "uu072KoXXP2j",
        "colab": {
          "base_uri": "https://localhost:8080/"
        },
        "outputId": "adeea32c-5fbd-4a94-cd34-0fb2fd0afdb3"
      },
      "execution_count": null,
      "outputs": [
        {
          "output_type": "execute_result",
          "data": {
            "text/plain": [
              "['voting_classifier_model.pkl']"
            ]
          },
          "metadata": {},
          "execution_count": 26
        }
      ]
    },
    {
      "cell_type": "markdown",
      "source": [
        "Playground"
      ],
      "metadata": {
        "id": "ZOzXOGU3nXHf"
      }
    },
    {
      "cell_type": "code",
      "source": [
        "from sklearn.model_selection import GridSearchCV\n",
        "from sklearn.ensemble import RandomForestClassifier\n",
        "\n",
        "# Inisialisasi model Random Forest\n",
        "rf = RandomForestClassifier(random_state=42)\n",
        "\n",
        "# Parameter grid untuk tuning\n",
        "param_grid = {\n",
        "    'n_estimators': [50, 100, 200],\n",
        "    'max_depth': [None, 10, 20, 30],\n",
        "    'min_samples_split': [2, 5, 10],\n",
        "    'min_samples_leaf': [1, 2, 4],\n",
        "    'max_features': ['auto', 'sqrt', 'log2']\n",
        "}\n",
        "\n",
        "# GridSearchCV untuk mencari parameter terbaik\n",
        "grid_search = GridSearchCV(estimator=rf, param_grid=param_grid, cv=5, n_jobs=-1, verbose=2)\n",
        "grid_search.fit(X_train, y_train)\n",
        "\n",
        "# Menampilkan parameter terbaik dan skor\n",
        "print(f\"Best parameters: {grid_search.best_params_}\")\n",
        "print(f\"Best score: {grid_search.best_score_}\")\n",
        "\n",
        "# Gunakan model dengan parameter terbaik\n",
        "best_rf = grid_search.best_estimator_\n"
      ],
      "metadata": {
        "colab": {
          "base_uri": "https://localhost:8080/"
        },
        "id": "_j6d-E2I8qSc",
        "outputId": "7013dd91-cbaf-474e-9b12-8cabc66ab21b"
      },
      "execution_count": null,
      "outputs": [
        {
          "output_type": "stream",
          "name": "stdout",
          "text": [
            "Fitting 5 folds for each of 324 candidates, totalling 1620 fits\n"
          ]
        },
        {
          "output_type": "stream",
          "name": "stderr",
          "text": [
            "/usr/local/lib/python3.10/dist-packages/joblib/externals/loky/process_executor.py:752: UserWarning: A worker stopped while some jobs were given to the executor. This can be caused by a too short worker timeout or by a memory leak.\n",
            "  warnings.warn(\n",
            "/usr/local/lib/python3.10/dist-packages/sklearn/model_selection/_validation.py:425: FitFailedWarning: \n",
            "540 fits failed out of a total of 1620.\n",
            "The score on these train-test partitions for these parameters will be set to nan.\n",
            "If these failures are not expected, you can try to debug them by setting error_score='raise'.\n",
            "\n",
            "Below are more details about the failures:\n",
            "--------------------------------------------------------------------------------\n",
            "405 fits failed with the following error:\n",
            "Traceback (most recent call last):\n",
            "  File \"/usr/local/lib/python3.10/dist-packages/sklearn/model_selection/_validation.py\", line 729, in _fit_and_score\n",
            "    estimator.fit(X_train, y_train, **fit_params)\n",
            "  File \"/usr/local/lib/python3.10/dist-packages/sklearn/base.py\", line 1145, in wrapper\n",
            "    estimator._validate_params()\n",
            "  File \"/usr/local/lib/python3.10/dist-packages/sklearn/base.py\", line 638, in _validate_params\n",
            "    validate_parameter_constraints(\n",
            "  File \"/usr/local/lib/python3.10/dist-packages/sklearn/utils/_param_validation.py\", line 96, in validate_parameter_constraints\n",
            "    raise InvalidParameterError(\n",
            "sklearn.utils._param_validation.InvalidParameterError: The 'max_features' parameter of RandomForestClassifier must be an int in the range [1, inf), a float in the range (0.0, 1.0], a str among {'sqrt', 'log2'} or None. Got 'auto' instead.\n",
            "\n",
            "--------------------------------------------------------------------------------\n",
            "135 fits failed with the following error:\n",
            "Traceback (most recent call last):\n",
            "  File \"/usr/local/lib/python3.10/dist-packages/sklearn/model_selection/_validation.py\", line 729, in _fit_and_score\n",
            "    estimator.fit(X_train, y_train, **fit_params)\n",
            "  File \"/usr/local/lib/python3.10/dist-packages/sklearn/base.py\", line 1145, in wrapper\n",
            "    estimator._validate_params()\n",
            "  File \"/usr/local/lib/python3.10/dist-packages/sklearn/base.py\", line 638, in _validate_params\n",
            "    validate_parameter_constraints(\n",
            "  File \"/usr/local/lib/python3.10/dist-packages/sklearn/utils/_param_validation.py\", line 96, in validate_parameter_constraints\n",
            "    raise InvalidParameterError(\n",
            "sklearn.utils._param_validation.InvalidParameterError: The 'max_features' parameter of RandomForestClassifier must be an int in the range [1, inf), a float in the range (0.0, 1.0], a str among {'log2', 'sqrt'} or None. Got 'auto' instead.\n",
            "\n",
            "  warnings.warn(some_fits_failed_message, FitFailedWarning)\n",
            "/usr/local/lib/python3.10/dist-packages/sklearn/model_selection/_search.py:979: UserWarning: One or more of the test scores are non-finite: [       nan        nan        nan        nan        nan        nan\n",
            "        nan        nan        nan        nan        nan        nan\n",
            "        nan        nan        nan        nan        nan        nan\n",
            "        nan        nan        nan        nan        nan        nan\n",
            "        nan        nan        nan 0.98950539 0.98985415 0.99017121\n",
            " 0.99026633 0.98991756 0.99007609 0.98915663 0.9895688  0.9895688\n",
            " 0.9895688  0.98985415 0.98972733 0.98893469 0.98947368 0.98947368\n",
            " 0.98874445 0.98915663 0.98925174 0.9878884  0.9884591  0.9884591\n",
            " 0.9878884  0.9884591  0.9884591  0.98795181 0.98795181 0.98836398\n",
            " 0.98950539 0.98985415 0.99017121 0.99026633 0.98991756 0.99007609\n",
            " 0.98915663 0.9895688  0.9895688  0.9895688  0.98985415 0.98972733\n",
            " 0.98893469 0.98947368 0.98947368 0.98874445 0.98915663 0.98925174\n",
            " 0.9878884  0.9884591  0.9884591  0.9878884  0.9884591  0.9884591\n",
            " 0.98795181 0.98795181 0.98836398        nan        nan        nan\n",
            "        nan        nan        nan        nan        nan        nan\n",
            "        nan        nan        nan        nan        nan        nan\n",
            "        nan        nan        nan        nan        nan        nan\n",
            "        nan        nan        nan        nan        nan        nan\n",
            " 0.98037413 0.98265694 0.98303741 0.98065948 0.98310082 0.98338618\n",
            " 0.97932784 0.98233989 0.98246671 0.9791059  0.98164236 0.98189601\n",
            " 0.97951807 0.98161065 0.98278377 0.97894737 0.98208624 0.98221306\n",
            " 0.97866202 0.98015219 0.98031072 0.97866202 0.98015219 0.98031072\n",
            " 0.97729867 0.98046925 0.98040583 0.98037413 0.98265694 0.98303741\n",
            " 0.98065948 0.98310082 0.98338618 0.97932784 0.98233989 0.98246671\n",
            " 0.9791059  0.98164236 0.98189601 0.97951807 0.98161065 0.98278377\n",
            " 0.97894737 0.98208624 0.98221306 0.97866202 0.98015219 0.98031072\n",
            " 0.97866202 0.98015219 0.98031072 0.97729867 0.98046925 0.98040583\n",
            "        nan        nan        nan        nan        nan        nan\n",
            "        nan        nan        nan        nan        nan        nan\n",
            "        nan        nan        nan        nan        nan        nan\n",
            "        nan        nan        nan        nan        nan        nan\n",
            "        nan        nan        nan 0.98969562 0.99001268 0.99020292\n",
            " 0.99023462 0.98988586 0.99013951 0.98918833 0.98950539 0.98966392\n",
            " 0.98960051 0.98985415 0.98975904 0.98896639 0.98944198 0.98966392\n",
            " 0.98877616 0.98925174 0.98922004 0.98785669 0.98849081 0.9884591\n",
            " 0.98785669 0.98849081 0.9884591  0.98807863 0.9878884  0.98836398\n",
            " 0.98969562 0.99001268 0.99020292 0.99023462 0.98988586 0.99013951\n",
            " 0.98918833 0.98950539 0.98966392 0.98960051 0.98985415 0.98975904\n",
            " 0.98896639 0.98944198 0.98966392 0.98877616 0.98925174 0.98922004\n",
            " 0.98785669 0.98849081 0.9884591  0.98785669 0.98849081 0.9884591\n",
            " 0.98807863 0.9878884  0.98836398        nan        nan        nan\n",
            "        nan        nan        nan        nan        nan        nan\n",
            "        nan        nan        nan        nan        nan        nan\n",
            "        nan        nan        nan        nan        nan        nan\n",
            "        nan        nan        nan        nan        nan        nan\n",
            " 0.98950539 0.98985415 0.99017121 0.99026633 0.98991756 0.99007609\n",
            " 0.98915663 0.9895688  0.9895688  0.9895688  0.98985415 0.98972733\n",
            " 0.98893469 0.98947368 0.98947368 0.98874445 0.98915663 0.98925174\n",
            " 0.9878884  0.9884591  0.9884591  0.9878884  0.9884591  0.9884591\n",
            " 0.98795181 0.98795181 0.98836398 0.98950539 0.98985415 0.99017121\n",
            " 0.99026633 0.98991756 0.99007609 0.98915663 0.9895688  0.9895688\n",
            " 0.9895688  0.98985415 0.98972733 0.98893469 0.98947368 0.98947368\n",
            " 0.98874445 0.98915663 0.98925174 0.9878884  0.9884591  0.9884591\n",
            " 0.9878884  0.9884591  0.9884591  0.98795181 0.98795181 0.98836398]\n",
            "  warnings.warn(\n"
          ]
        },
        {
          "output_type": "stream",
          "name": "stdout",
          "text": [
            "Best parameters: {'max_depth': None, 'max_features': 'sqrt', 'min_samples_leaf': 1, 'min_samples_split': 5, 'n_estimators': 50}\n",
            "Best score: 0.990266328471782\n"
          ]
        }
      ]
    },
    {
      "cell_type": "code",
      "source": [
        "from sklearn.metrics import classification_report, confusion_matrix\n",
        "\n",
        "# Prediksi pada data pengujian\n",
        "y_pred = best_rf.predict(X_test)\n",
        "\n",
        "# Tampilkan Confusion Matrix\n",
        "print(\"Confusion Matrix:\")\n",
        "print(confusion_matrix(y_test, y_pred))\n",
        "\n",
        "# Tampilkan Classification Report\n",
        "print(\"\\nClassification Report:\")\n",
        "print(classification_report(y_test, y_pred))"
      ],
      "metadata": {
        "colab": {
          "base_uri": "https://localhost:8080/"
        },
        "id": "M2bNF9SDHJhF",
        "outputId": "986a36a5-ba80-48c4-9ac7-153aadb6aad1"
      },
      "execution_count": null,
      "outputs": [
        {
          "output_type": "stream",
          "name": "stdout",
          "text": [
            "Confusion Matrix:\n",
            "[[4313    0   16   10]\n",
            " [   0 1320   10    0]\n",
            " [   8   19  811    0]\n",
            " [  17    0    0 1361]]\n",
            "\n",
            "Classification Report:\n",
            "              precision    recall  f1-score   support\n",
            "\n",
            "           0       0.99      0.99      0.99      4339\n",
            "           1       0.99      0.99      0.99      1330\n",
            "           2       0.97      0.97      0.97       838\n",
            "           3       0.99      0.99      0.99      1378\n",
            "\n",
            "    accuracy                           0.99      7885\n",
            "   macro avg       0.99      0.99      0.99      7885\n",
            "weighted avg       0.99      0.99      0.99      7885\n",
            "\n"
          ]
        }
      ]
    },
    {
      "cell_type": "code",
      "source": [
        "from sklearn.model_selection import cross_val_score\n",
        "\n",
        "cv_scores = cross_val_score(best_rf, X, y, cv=5)\n",
        "print(f\"Cross-validation Scores: {cv_scores}\")\n",
        "print(f\"Mean CV Score: {cv_scores.mean()}\")"
      ],
      "metadata": {
        "colab": {
          "base_uri": "https://localhost:8080/"
        },
        "id": "qpO1EjJOHo95",
        "outputId": "609520cc-7e90-4718-a612-83ae85e1649d"
      },
      "execution_count": null,
      "outputs": [
        {
          "output_type": "stream",
          "name": "stdout",
          "text": [
            "Cross-validation Scores: [0.18414711 0.09752695 0.30424857 0.20240964 0.61597971]\n",
            "Mean CV Score: 0.28086239695624604\n"
          ]
        }
      ]
    },
    {
      "cell_type": "code",
      "source": [
        "from sklearn.neighbors import KNeighborsClassifier\n",
        "\n",
        "# membuat objek KNN dengan\n",
        "knn = KNeighborsClassifier(algorithm='kd_tree', n_neighbors=5)\n",
        "\n",
        "# melatih model KNN dengan data latih\n",
        "knn.fit(X_train, y_train)"
      ],
      "metadata": {
        "colab": {
          "base_uri": "https://localhost:8080/",
          "height": 75
        },
        "id": "btYP0j-UIb4D",
        "outputId": "279e2c71-aedb-4d1e-aa96-a3e911840c0b"
      },
      "execution_count": null,
      "outputs": [
        {
          "output_type": "execute_result",
          "data": {
            "text/plain": [
              "KNeighborsClassifier(algorithm='kd_tree')"
            ],
            "text/html": [
              "<style>#sk-container-id-2 {color: black;}#sk-container-id-2 pre{padding: 0;}#sk-container-id-2 div.sk-toggleable {background-color: white;}#sk-container-id-2 label.sk-toggleable__label {cursor: pointer;display: block;width: 100%;margin-bottom: 0;padding: 0.3em;box-sizing: border-box;text-align: center;}#sk-container-id-2 label.sk-toggleable__label-arrow:before {content: \"▸\";float: left;margin-right: 0.25em;color: #696969;}#sk-container-id-2 label.sk-toggleable__label-arrow:hover:before {color: black;}#sk-container-id-2 div.sk-estimator:hover label.sk-toggleable__label-arrow:before {color: black;}#sk-container-id-2 div.sk-toggleable__content {max-height: 0;max-width: 0;overflow: hidden;text-align: left;background-color: #f0f8ff;}#sk-container-id-2 div.sk-toggleable__content pre {margin: 0.2em;color: black;border-radius: 0.25em;background-color: #f0f8ff;}#sk-container-id-2 input.sk-toggleable__control:checked~div.sk-toggleable__content {max-height: 200px;max-width: 100%;overflow: auto;}#sk-container-id-2 input.sk-toggleable__control:checked~label.sk-toggleable__label-arrow:before {content: \"▾\";}#sk-container-id-2 div.sk-estimator input.sk-toggleable__control:checked~label.sk-toggleable__label {background-color: #d4ebff;}#sk-container-id-2 div.sk-label input.sk-toggleable__control:checked~label.sk-toggleable__label {background-color: #d4ebff;}#sk-container-id-2 input.sk-hidden--visually {border: 0;clip: rect(1px 1px 1px 1px);clip: rect(1px, 1px, 1px, 1px);height: 1px;margin: -1px;overflow: hidden;padding: 0;position: absolute;width: 1px;}#sk-container-id-2 div.sk-estimator {font-family: monospace;background-color: #f0f8ff;border: 1px dotted black;border-radius: 0.25em;box-sizing: border-box;margin-bottom: 0.5em;}#sk-container-id-2 div.sk-estimator:hover {background-color: #d4ebff;}#sk-container-id-2 div.sk-parallel-item::after {content: \"\";width: 100%;border-bottom: 1px solid gray;flex-grow: 1;}#sk-container-id-2 div.sk-label:hover label.sk-toggleable__label {background-color: #d4ebff;}#sk-container-id-2 div.sk-serial::before {content: \"\";position: absolute;border-left: 1px solid gray;box-sizing: border-box;top: 0;bottom: 0;left: 50%;z-index: 0;}#sk-container-id-2 div.sk-serial {display: flex;flex-direction: column;align-items: center;background-color: white;padding-right: 0.2em;padding-left: 0.2em;position: relative;}#sk-container-id-2 div.sk-item {position: relative;z-index: 1;}#sk-container-id-2 div.sk-parallel {display: flex;align-items: stretch;justify-content: center;background-color: white;position: relative;}#sk-container-id-2 div.sk-item::before, #sk-container-id-2 div.sk-parallel-item::before {content: \"\";position: absolute;border-left: 1px solid gray;box-sizing: border-box;top: 0;bottom: 0;left: 50%;z-index: -1;}#sk-container-id-2 div.sk-parallel-item {display: flex;flex-direction: column;z-index: 1;position: relative;background-color: white;}#sk-container-id-2 div.sk-parallel-item:first-child::after {align-self: flex-end;width: 50%;}#sk-container-id-2 div.sk-parallel-item:last-child::after {align-self: flex-start;width: 50%;}#sk-container-id-2 div.sk-parallel-item:only-child::after {width: 0;}#sk-container-id-2 div.sk-dashed-wrapped {border: 1px dashed gray;margin: 0 0.4em 0.5em 0.4em;box-sizing: border-box;padding-bottom: 0.4em;background-color: white;}#sk-container-id-2 div.sk-label label {font-family: monospace;font-weight: bold;display: inline-block;line-height: 1.2em;}#sk-container-id-2 div.sk-label-container {text-align: center;}#sk-container-id-2 div.sk-container {/* jupyter's `normalize.less` sets `[hidden] { display: none; }` but bootstrap.min.css set `[hidden] { display: none !important; }` so we also need the `!important` here to be able to override the default hidden behavior on the sphinx rendered scikit-learn.org. See: https://github.com/scikit-learn/scikit-learn/issues/21755 */display: inline-block !important;position: relative;}#sk-container-id-2 div.sk-text-repr-fallback {display: none;}</style><div id=\"sk-container-id-2\" class=\"sk-top-container\"><div class=\"sk-text-repr-fallback\"><pre>KNeighborsClassifier(algorithm=&#x27;kd_tree&#x27;)</pre><b>In a Jupyter environment, please rerun this cell to show the HTML representation or trust the notebook. <br />On GitHub, the HTML representation is unable to render, please try loading this page with nbviewer.org.</b></div><div class=\"sk-container\" hidden><div class=\"sk-item\"><div class=\"sk-estimator sk-toggleable\"><input class=\"sk-toggleable__control sk-hidden--visually\" id=\"sk-estimator-id-2\" type=\"checkbox\" checked><label for=\"sk-estimator-id-2\" class=\"sk-toggleable__label sk-toggleable__label-arrow\">KNeighborsClassifier</label><div class=\"sk-toggleable__content\"><pre>KNeighborsClassifier(algorithm=&#x27;kd_tree&#x27;)</pre></div></div></div></div></div>"
            ]
          },
          "metadata": {},
          "execution_count": 76
        }
      ]
    },
    {
      "cell_type": "code",
      "source": [
        "from sklearn.metrics import accuracy_score\n",
        "\n",
        "# membuat prediksi dengan data uji\n",
        "y_pred = knn.predict(X_test)\n",
        "\n",
        "# menghitung akurasi model\n",
        "accuracy = accuracy_score(y_test, y_pred)\n",
        "print('Akurasi model KNN:', accuracy)"
      ],
      "metadata": {
        "colab": {
          "base_uri": "https://localhost:8080/"
        },
        "id": "GvxW_xyXIrL3",
        "outputId": "f4e5fe8f-158d-4ddc-bf91-602c003b8aea"
      },
      "execution_count": null,
      "outputs": [
        {
          "output_type": "stream",
          "name": "stdout",
          "text": [
            "Akurasi model KNN: 0.989854153455929\n"
          ]
        }
      ]
    },
    {
      "cell_type": "code",
      "source": [
        "from sklearn.metrics import classification_report, confusion_matrix\n",
        "\n",
        "print('confusion_matrix knn:')\n",
        "confusion_matrix(y_test, y_pred)"
      ],
      "metadata": {
        "colab": {
          "base_uri": "https://localhost:8080/"
        },
        "id": "FJFCLvLAIthA",
        "outputId": "ea8ad8d3-212d-4a47-9d70-f85ad3e4ad20"
      },
      "execution_count": null,
      "outputs": [
        {
          "output_type": "stream",
          "name": "stdout",
          "text": [
            "confusion_matrix knn:\n"
          ]
        },
        {
          "output_type": "execute_result",
          "data": {
            "text/plain": [
              "array([[4309,    0,   14,   16],\n",
              "       [   0, 1320,   10,    0],\n",
              "       [  10,   16,  812,    0],\n",
              "       [  14,    0,    0, 1364]])"
            ]
          },
          "metadata": {},
          "execution_count": 78
        }
      ]
    },
    {
      "cell_type": "code",
      "source": [
        "print(classification_report(y_test.values.reshape(-1, 1), y_pred))"
      ],
      "metadata": {
        "colab": {
          "base_uri": "https://localhost:8080/"
        },
        "id": "YFFeDIyfIwId",
        "outputId": "d408eb4c-32b9-4a47-e1a4-0f02b4c66420"
      },
      "execution_count": null,
      "outputs": [
        {
          "output_type": "stream",
          "name": "stdout",
          "text": [
            "              precision    recall  f1-score   support\n",
            "\n",
            "           0       0.99      0.99      0.99      4339\n",
            "           1       0.99      0.99      0.99      1330\n",
            "           2       0.97      0.97      0.97       838\n",
            "           3       0.99      0.99      0.99      1378\n",
            "\n",
            "    accuracy                           0.99      7885\n",
            "   macro avg       0.99      0.99      0.99      7885\n",
            "weighted avg       0.99      0.99      0.99      7885\n",
            "\n"
          ]
        }
      ]
    },
    {
      "cell_type": "code",
      "source": [
        "import numpy as np\n",
        "from sklearn.model_selection import cross_val_score\n",
        "\n",
        "print('Cross val: ', cross_val_score(knn, y_test.values.reshape(-1, 1), y_pred, cv = 5))\n",
        "print('Accuracy : ', np.mean(cross_val_score(knn, y_test.values.reshape(-1, 1), y_pred)))"
      ],
      "metadata": {
        "colab": {
          "base_uri": "https://localhost:8080/"
        },
        "id": "eGJud2NdIyZs",
        "outputId": "1a3b11d6-e4d3-4d4d-9b72-e479bccbf296"
      },
      "execution_count": null,
      "outputs": [
        {
          "output_type": "stream",
          "name": "stdout",
          "text": [
            "Cross val:  [0.98922004 0.99239062 0.98858592 0.99048827 0.98858592]\n",
            "Accuracy :  0.9898541534559289\n"
          ]
        }
      ]
    },
    {
      "cell_type": "code",
      "source": [
        "from sklearn.svm import SVC\n",
        "from sklearn.neighbors import KNeighborsClassifier\n",
        "from sklearn.ensemble import VotingClassifier\n",
        "from sklearn.model_selection import train_test_split\n",
        "from sklearn.metrics import accuracy_score\n",
        "\n",
        "voting_clf = VotingClassifier(estimators=[\n",
        "    ('svm', svm_model),\n",
        "    ('knn', knn)\n",
        "], voting='soft')\n",
        "voting_clf.fit(X_train, y_train)\n",
        "\n",
        "# Prediksi menggunakan Voting Classifier\n",
        "y_pred_voting = voting_clf.predict(X_test)"
      ],
      "metadata": {
        "id": "RXkb-v4MI2LT"
      },
      "execution_count": null,
      "outputs": []
    },
    {
      "cell_type": "code",
      "source": [
        "# Cetak confusion matrix\n",
        "print(\"Voting Classifier\")\n",
        "print(\"Confusion Matrix (Voting Classifier):\")\n",
        "print(confusion_matrix(y_test, y_pred_voting))\n",
        "\n",
        "# Cetak classification report\n",
        "print(\"\\nClassification Report (Voting Classifier):\")\n",
        "print(classification_report(y_test, y_pred_voting))"
      ],
      "metadata": {
        "colab": {
          "base_uri": "https://localhost:8080/"
        },
        "id": "Gp5adtygJrGx",
        "outputId": "fb580e73-0eab-418e-c502-8e4beabdb40c"
      },
      "execution_count": null,
      "outputs": [
        {
          "output_type": "stream",
          "name": "stdout",
          "text": [
            "Voting Classifier\n",
            "Confusion Matrix (Voting Classifier):\n",
            "[[4285    0   30   24]\n",
            " [   0 1304   26    0]\n",
            " [  14   15  809    0]\n",
            " [   9    0    0 1369]]\n",
            "\n",
            "Classification Report (Voting Classifier):\n",
            "              precision    recall  f1-score   support\n",
            "\n",
            "           0       0.99      0.99      0.99      4339\n",
            "           1       0.99      0.98      0.98      1330\n",
            "           2       0.94      0.97      0.95       838\n",
            "           3       0.98      0.99      0.99      1378\n",
            "\n",
            "    accuracy                           0.99      7885\n",
            "   macro avg       0.98      0.98      0.98      7885\n",
            "weighted avg       0.99      0.99      0.99      7885\n",
            "\n"
          ]
        }
      ]
    },
    {
      "cell_type": "code",
      "source": [
        "cv_scores_voting = cross_val_score(voting_clf, X, y, cv=5)\n",
        "print(\"\\nCross-validation Scores (Voting Classifier):\")\n",
        "print(cv_scores_voting)\n",
        "print(f\"Mean CV Score (Voting Classifier): {cv_scores_voting.mean()}\")"
      ],
      "metadata": {
        "colab": {
          "base_uri": "https://localhost:8080/"
        },
        "id": "OEM2MmXtJvOW",
        "outputId": "053ac3f8-9b37-463d-894a-8731f01f4ddc"
      },
      "execution_count": null,
      "outputs": [
        {
          "output_type": "stream",
          "name": "stdout",
          "text": [
            "\n",
            "Cross-validation Scores (Voting Classifier):\n",
            "[0.34711477 0.44311985 0.50095117 0.58287888 0.63208624]\n",
            "Mean CV Score (Voting Classifier): 0.5012301838934686\n"
          ]
        }
      ]
    }
  ]
}